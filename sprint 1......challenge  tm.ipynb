{
 "cells": [
  {
   "cell_type": "markdown",
   "id": "e6e1c403",
   "metadata": {},
   "source": [
    "# Task 1"
   ]
  },
  {
   "cell_type": "markdown",
   "id": "795d0ea3",
   "metadata": {},
   "source": [
    "1)Set null and alternate hypothesis"
   ]
  },
  {
   "cell_type": "markdown",
   "id": "e3ca3f47",
   "metadata": {},
   "source": [
    "# H0: number of regular applicant and early applicant are same\n",
    "    \n",
    "Ha: number of regular applicant and early applicant are not same"
   ]
  },
  {
   "cell_type": "markdown",
   "id": "564247d5",
   "metadata": {},
   "source": [
    "2)approprate statistical test"
   ]
  },
  {
   "cell_type": "markdown",
   "id": "4d638e75",
   "metadata": {},
   "source": [
    "chi square of independent test"
   ]
  },
  {
   "cell_type": "markdown",
   "id": "7987c275",
   "metadata": {},
   "source": [
    "3)establish decision rule and set dof"
   ]
  },
  {
   "cell_type": "markdown",
   "id": "f514c6c6",
   "metadata": {},
   "source": [
    "i. If ꭕ2-statistics > ꭕ2-critical : Rejection of Null Hypothesis(H0)"
   ]
  },
  {
   "cell_type": "code",
   "execution_count": 1,
   "id": "24055418",
   "metadata": {},
   "outputs": [
    {
     "data": {
      "text/plain": [
       "5"
      ]
     },
     "execution_count": 1,
     "metadata": {},
     "output_type": "execute_result"
    }
   ],
   "source": [
    "df=6-1\n",
    "df"
   ]
  },
  {
   "cell_type": "code",
   "execution_count": 2,
   "id": "6379977f",
   "metadata": {},
   "outputs": [],
   "source": [
    "alpha=0.05"
   ]
  },
  {
   "cell_type": "code",
   "execution_count": 3,
   "id": "fe8d8d22",
   "metadata": {},
   "outputs": [
    {
     "ename": "SyntaxError",
     "evalue": "invalid syntax (1358424291.py, line 1)",
     "output_type": "error",
     "traceback": [
      "\u001b[1;36m  Cell \u001b[1;32mIn[3], line 1\u001b[1;36m\u001b[0m\n\u001b[1;33m    from scipy,stats import chi2_contingency,chi2\u001b[0m\n\u001b[1;37m              ^\u001b[0m\n\u001b[1;31mSyntaxError\u001b[0m\u001b[1;31m:\u001b[0m invalid syntax\n"
     ]
    }
   ],
   "source": [
    ".from scipy,stats import chi2_contingency,chi2"
   ]
  },
  {
   "cell_type": "markdown",
   "id": "55a1a4b3",
   "metadata": {},
   "source": [
    "4)Analyse the data"
   ]
  },
  {
   "cell_type": "code",
   "execution_count": 7,
   "id": "b9d37db8",
   "metadata": {},
   "outputs": [],
   "source": [
    "from scipy.stats import chi2_contingency,chi2"
   ]
  },
  {
   "cell_type": "code",
   "execution_count": 9,
   "id": "8c26e6ee",
   "metadata": {},
   "outputs": [
    {
     "name": "stdout",
     "output_type": "stream",
     "text": [
      "[[22, 23, 45, 67, 54]]\n",
      "0.0\n",
      "1.0\n",
      "0\n",
      "[[22. 23. 45. 67. 54.]]\n"
     ]
    }
   ],
   "source": [
    "table=[[22,23,45,67,54]]\n",
    "print(table)\n",
    "stat,p,dof,expected=chi2_contingency(table)\n",
    "print(stat)\n",
    "print(p)\n",
    "print(dof\n",
    "     )\n",
    "print(expected)"
   ]
  },
  {
   "cell_type": "code",
   "execution_count": 10,
   "id": "d1f189c8",
   "metadata": {},
   "outputs": [
    {
     "name": "stdout",
     "output_type": "stream",
     "text": [
      "[[23, 45, 67, 89, 97, 554]]\n",
      "0.0\n",
      "1.0\n",
      "0\n",
      "[[ 23.  45.  67.  89.  97. 554.]]\n"
     ]
    }
   ],
   "source": [
    "b=[[23,45,67,89,97,554]]\n",
    "print(b)\n",
    "sat,p,dof,expected=chi2_contingency(b)\n",
    "print(sat)\n",
    "print(p)\n",
    "print(dof)\n",
    "print(expected)"
   ]
  },
  {
   "cell_type": "code",
   "execution_count": null,
   "id": "ea43ff30",
   "metadata": {},
   "outputs": [],
   "source": []
  },
  {
   "cell_type": "code",
   "execution_count": null,
   "id": "3718fd6c",
   "metadata": {},
   "outputs": [],
   "source": []
  },
  {
   "cell_type": "code",
   "execution_count": 4,
   "id": "e2ce643f",
   "metadata": {
    "scrolled": true
   },
   "outputs": [
    {
     "name": "stdout",
     "output_type": "stream",
     "text": [
      "[[2115, 1792, 5304, 1734, 2685, 1245], [577, 627, 1228, 444, 1195, 761]]\n",
      "429.7661086064742\n",
      "1.135456188482975e-90\n",
      "dof= 5\n",
      "[[2031.94296443 1825.88039783 4930.40543969 1643.97168519 2928.65479271\n",
      "  1514.14472015]\n",
      " [ 660.05703557  593.11960217 1601.59456031  534.02831481  951.34520729\n",
      "   491.85527985]]\n"
     ]
    }
   ],
   "source": [
    "#contengency table\n",
    "table=[[2115,1792,5304,1734,2685,1245],[577,627,1228,444,1195,761]]\n",
    "print(table)\n",
    "\n",
    "stat,p,dof,expected = chi2_contingency(table)\n",
    "print(stat)\n",
    "print(p)\n",
    "print('dof=',dof)\n",
    "print(expected)"
   ]
  },
  {
   "cell_type": "code",
   "execution_count": 12,
   "id": "8416e827",
   "metadata": {},
   "outputs": [],
   "source": [
    "alpha=.5"
   ]
  },
  {
   "cell_type": "markdown",
   "id": "1674988f",
   "metadata": {},
   "source": [
    "5)Determine the business implication"
   ]
  },
  {
   "cell_type": "code",
   "execution_count": 13,
   "id": "e990f0c7",
   "metadata": {},
   "outputs": [],
   "source": [
    "critacal=chi2.ppf(1-alpha,dof)"
   ]
  },
  {
   "cell_type": "code",
   "execution_count": 18,
   "id": "863e6235",
   "metadata": {},
   "outputs": [
    {
     "name": "stdout",
     "output_type": "stream",
     "text": [
      "Probabilit= 0.05,critical= 11.070497693516351, stat=429.7661086064742\n",
      "significance = 0.05,p = 1.135456188482975e-90\n"
     ]
    }
   ],
   "source": [
    "#critical value\n",
    "critical = chi2.ppf(1-alpha,dof)\n",
    "print('Probabilit= {},critical= {}, stat={}'.format(alpha,critical,stat))\n",
    "   \n",
    "#interpret p-value\n",
    "print('significance = {},p = {}'.format(alpha,p))"
   ]
  },
  {
   "cell_type": "code",
   "execution_count": 17,
   "id": "2ba9026f",
   "metadata": {},
   "outputs": [
    {
     "name": "stdout",
     "output_type": "stream",
     "text": [
      "number of regular applicant and early applicant are not same(Reject null hypothesis)\n"
     ]
    }
   ],
   "source": [
    "if p<=alpha and abs(stat) >= critical:\n",
    "    print('number of regular applicant and early applicant are not same(Reject null hypothesis)')\n",
    "else:\n",
    "    print('number of regular applicant and early applicant are same(Accept Null hypothesis test)')"
   ]
  },
  {
   "cell_type": "code",
   "execution_count": 6,
   "id": "610abe9e",
   "metadata": {},
   "outputs": [],
   "source": [
    "import numpy as np\n",
    "import pandas as pd\n",
    "import matplotlib.pyplot as plt"
   ]
  },
  {
   "cell_type": "code",
   "execution_count": 7,
   "id": "8d3efd21",
   "metadata": {},
   "outputs": [
    {
     "data": {
      "text/plain": [
       "[<matplotlib.lines.Line2D at 0x1ec57494b20>]"
      ]
     },
     "execution_count": 7,
     "metadata": {},
     "output_type": "execute_result"
    },
    {
     "data": {
      "image/png": "[encoded data removed]",
      "text/plain": [
       "<Figure size 640x480 with 1 Axes>"
      ]
     },
     "metadata": {},
     "output_type": "display_data"
    }
   ],
   "source": [
    "x=np.arange(0,40,0.01)\n",
    "plt.plot(x,chi2.pdf(x,dof))"
   ]
  },
  {
   "cell_type": "markdown",
   "id": "ff04d017",
   "metadata": {},
   "source": [
    "# Task 2"
   ]
  },
  {
   "cell_type": "raw",
   "id": "aa43b75b",
   "metadata": {},
   "source": [
    "H0: Observation frequency distribution of men's data matches the women's data\n",
    "Ha: Observation frequency distribution of men's data does't matches the women's data"
   ]
  },
  {
   "cell_type": "raw",
   "id": "773d358b",
   "metadata": {},
   "source": [
    "ꭕ2 = ∑ (fo – fc)**2/fc\n",
    "\n",
    "Chi-square test is one tailed test"
   ]
  },
  {
   "cell_type": "code",
   "execution_count": 8,
   "id": "75316336",
   "metadata": {},
   "outputs": [
    {
     "data": {
      "text/plain": [
       "1"
      ]
     },
     "execution_count": 8,
     "metadata": {},
     "output_type": "execute_result"
    }
   ],
   "source": [
    "df=2-1\n",
    "df"
   ]
  },
  {
   "cell_type": "code",
   "execution_count": 9,
   "id": "356b7fc5",
   "metadata": {},
   "outputs": [],
   "source": [
    "alpha2=0.05"
   ]
  },
  {
   "cell_type": "markdown",
   "id": "174b6cfb",
   "metadata": {},
   "source": [
    "# Establish the decision rule\n",
    "i. If p-value < alpha : Reject the Null hypothesis(H0) ii. If ꭕ2-statistics > ꭕ2-critical : Rejection of Null Hypothesis(H0)"
   ]
  },
  {
   "cell_type": "markdown",
   "id": "65fb9e64",
   "metadata": {},
   "source": [
    "# Analyze the data"
   ]
  },
  {
   "cell_type": "markdown",
   "id": "909e4579",
   "metadata": {},
   "source": [
    "Calculate Expected Frequency"
   ]
  },
  {
   "cell_type": "code",
   "execution_count": 10,
   "id": "2dd6e161",
   "metadata": {},
   "outputs": [
    {
     "name": "stdout",
     "output_type": "stream",
     "text": [
      "[[42, 95, 27, 63], [40, 18, 12, 30]]\n",
      "24.34466698569127\n",
      "2.116488204898397e-05\n",
      "dof= 3\n",
      "[[56.9235474  78.44342508 27.0733945  64.55963303]\n",
      " [25.0764526  34.55657492 11.9266055  28.44036697]]\n"
     ]
    }
   ],
   "source": [
    "table2=[[42,95,27,63],[40,18,12,30]]\n",
    "print(table2)\n",
    "\n",
    "stat2,p2,dof2,expected2= chi2_contingency(table2)\n",
    "\n",
    "print(stat2)\n",
    "print(p2)\n",
    "print('dof=',dof2)\n",
    "print(expected2)"
   ]
  },
  {
   "cell_type": "markdown",
   "id": "48b7de60",
   "metadata": {},
   "source": [
    "Calculate ꭕ2-statistic"
   ]
  },
  {
   "cell_type": "markdown",
   "id": "75af6432",
   "metadata": {},
   "source": [
    "Calculate ꭕ2-critica"
   ]
  },
  {
   "cell_type": "code",
   "execution_count": 11,
   "id": "e9078ba6",
   "metadata": {},
   "outputs": [
    {
     "name": "stdout",
     "output_type": "stream",
     "text": [
      "ꭕ2-critical = 7.814727903251179\n"
     ]
    }
   ],
   "source": [
    "chi_critical = chi2.ppf(1-alpha2,dof2)\n",
    "print(\"ꭕ2-critical =\",chi_critical)"
   ]
  },
  {
   "cell_type": "markdown",
   "id": "3e90a6ca",
   "metadata": {},
   "source": [
    "calculate p value"
   ]
  },
  {
   "cell_type": "code",
   "execution_count": 15,
   "id": "0d5b14f3",
   "metadata": {},
   "outputs": [
    {
     "name": "stdout",
     "output_type": "stream",
     "text": [
      "The p_value is 2.116488204898397e-05\n"
     ]
    }
   ],
   "source": [
    "print(\"The p_value is \" +str(p2))"
   ]
  },
  {
   "cell_type": "code",
   "execution_count": 19,
   "id": "9e7d7449",
   "metadata": {},
   "outputs": [
    {
     "name": "stdout",
     "output_type": "stream",
     "text": [
      "Observation frequency distribution of men's data does't matches the women's data(Reject null hypothesis test)\n"
     ]
    }
   ],
   "source": [
    "if p<alpha2 and abs(stat2)>= chi_critical:\n",
    "    print(\"Observation frequency distribution of men's data does't matches the women's data(Reject null hypothesis test)\")\n",
    "else:\n",
    "    print(\"Observation frequency distribution of men's data matches the women's data (Accept null hypothesis test)\")"
   ]
  },
  {
   "cell_type": "markdown",
   "id": "0dbe20a5",
   "metadata": {},
   "source": [
    "Plot chi-square distribution"
   ]
  },
  {
   "cell_type": "code",
   "execution_count": 14,
   "id": "251d1f8b",
   "metadata": {},
   "outputs": [
    {
     "data": {
      "text/plain": [
       "[<matplotlib.lines.Line2D at 0x1ec57c96f10>]"
      ]
     },
     "execution_count": 14,
     "metadata": {},
     "output_type": "execute_result"
    },
    {
     "data": {
      "image/png": "[encoded data removed]",
      "text/plain": [
       "<Figure size 640x480 with 1 Axes>"
      ]
     },
     "metadata": {},
     "output_type": "display_data"
    }
   ],
   "source": [
    "x=np.arange(0,40,0.01)\n",
    "plt.plot(x,chi2.pdf(x,dof2))"
   ]
  }
 ],
 "metadata": {
  "kernelspec": {
   "display_name": "Python 3 (ipykernel)",
   "language": "python",
   "name": "python3"
  },
  "language_info": {
   "codemirror_mode": {
    "name": "ipython",
    "version": 3
   },
   "file_extension": ".py",
   "mimetype": "text/x-python",
   "name": "python",
   "nbconvert_exporter": "python",
   "pygments_lexer": "ipython3",
   "version": "3.10.9"
  }
 },
 "nbformat": 4,
 "nbformat_minor": 5
}
