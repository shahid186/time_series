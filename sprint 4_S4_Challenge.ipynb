{
 "cells": [
  {
   "cell_type": "markdown",
   "id": "c8f0f36c",
   "metadata": {},
   "source": [
    "# September_2023_L3_C1_S4_Challenge"
   ]
  },
  {
   "cell_type": "code",
   "execution_count": 1,
   "id": "9a7f783c",
   "metadata": {},
   "outputs": [],
   "source": [
    "import numpy as np #for numerical calculatoin\n",
    "import pandas as pd # for data analysis\n",
    "import matplotlib.pyplot as plt #for data visualication\n",
    "import seaborn as sb # data visual\n",
    "import warnings #to ignore warning\n",
    "warnings.filterwarnings('ignore')\n",
    "from sklearn.metrics import mean_squared_error # to calculate error value\n",
    "\n",
    "from statsmodels.tsa.seasonal import seasonal_decompose # to view data trend,seasonal and residual\n",
    "from statsmodels.tsa.arima.model import ARIMA #to build ARIMA model\n",
    "from statsmodels.tsa.api import adfuller,pacf,acf # to check stationarity of data\n",
    "\n",
    "import statsmodels.api as sm # to build sarima model\n",
    "\n",
    "from statsmodels.tsa.ar_model import AutoReg \n",
    "from pmdarima.arima import auto_arima #to view best model"
   ]
  },
  {
   "cell_type": "code",
   "execution_count": 2,
   "id": "d3cdb2cf",
   "metadata": {},
   "outputs": [
    {
     "data": {
      "text/html": [
       "<div>\n",
       "<style scoped>\n",
       "    .dataframe tbody tr th:only-of-type {\n",
       "        vertical-align: middle;\n",
       "    }\n",
       "\n",
       "    .dataframe tbody tr th {\n",
       "        vertical-align: top;\n",
       "    }\n",
       "\n",
       "    .dataframe thead th {\n",
       "        text-align: right;\n",
       "    }\n",
       "</style>\n",
       "<table border=\"1\" class=\"dataframe\">\n",
       "  <thead>\n",
       "    <tr style=\"text-align: right;\">\n",
       "      <th></th>\n",
       "      <th>Row ID</th>\n",
       "      <th>Order ID</th>\n",
       "      <th>Ship Date</th>\n",
       "      <th>Ship Mode</th>\n",
       "      <th>Segment</th>\n",
       "      <th>Country</th>\n",
       "      <th>City</th>\n",
       "      <th>State</th>\n",
       "      <th>Postal Code</th>\n",
       "      <th>Region</th>\n",
       "      <th>Category</th>\n",
       "      <th>Sales</th>\n",
       "      <th>Quantity</th>\n",
       "      <th>Discount</th>\n",
       "      <th>Profit</th>\n",
       "    </tr>\n",
       "    <tr>\n",
       "      <th>Order Date</th>\n",
       "      <th></th>\n",
       "      <th></th>\n",
       "      <th></th>\n",
       "      <th></th>\n",
       "      <th></th>\n",
       "      <th></th>\n",
       "      <th></th>\n",
       "      <th></th>\n",
       "      <th></th>\n",
       "      <th></th>\n",
       "      <th></th>\n",
       "      <th></th>\n",
       "      <th></th>\n",
       "      <th></th>\n",
       "      <th></th>\n",
       "    </tr>\n",
       "  </thead>\n",
       "  <tbody>\n",
       "    <tr>\n",
       "      <th>2016-11-08</th>\n",
       "      <td>1</td>\n",
       "      <td>CA-2016-152156</td>\n",
       "      <td>11-11-2016</td>\n",
       "      <td>Second Class</td>\n",
       "      <td>Consumer</td>\n",
       "      <td>United States</td>\n",
       "      <td>Henderson</td>\n",
       "      <td>Kentucky</td>\n",
       "      <td>42420</td>\n",
       "      <td>South</td>\n",
       "      <td>Furniture</td>\n",
       "      <td>261.9600</td>\n",
       "      <td>2</td>\n",
       "      <td>0.00</td>\n",
       "      <td>41.9136</td>\n",
       "    </tr>\n",
       "    <tr>\n",
       "      <th>2016-11-08</th>\n",
       "      <td>2</td>\n",
       "      <td>CA-2016-152156</td>\n",
       "      <td>11-11-2016</td>\n",
       "      <td>Second Class</td>\n",
       "      <td>Consumer</td>\n",
       "      <td>United States</td>\n",
       "      <td>Henderson</td>\n",
       "      <td>Kentucky</td>\n",
       "      <td>42420</td>\n",
       "      <td>South</td>\n",
       "      <td>Furniture</td>\n",
       "      <td>731.9400</td>\n",
       "      <td>3</td>\n",
       "      <td>0.00</td>\n",
       "      <td>219.5820</td>\n",
       "    </tr>\n",
       "    <tr>\n",
       "      <th>2015-10-11</th>\n",
       "      <td>4</td>\n",
       "      <td>US-2015-108966</td>\n",
       "      <td>10/18/2015</td>\n",
       "      <td>Standard Class</td>\n",
       "      <td>Consumer</td>\n",
       "      <td>United States</td>\n",
       "      <td>Fort Lauderdale</td>\n",
       "      <td>Florida</td>\n",
       "      <td>33311</td>\n",
       "      <td>South</td>\n",
       "      <td>Furniture</td>\n",
       "      <td>957.5775</td>\n",
       "      <td>5</td>\n",
       "      <td>0.45</td>\n",
       "      <td>-383.0310</td>\n",
       "    </tr>\n",
       "    <tr>\n",
       "      <th>2014-06-09</th>\n",
       "      <td>6</td>\n",
       "      <td>CA-2014-115812</td>\n",
       "      <td>6/14/2014</td>\n",
       "      <td>Standard Class</td>\n",
       "      <td>Consumer</td>\n",
       "      <td>United States</td>\n",
       "      <td>Los Angeles</td>\n",
       "      <td>California</td>\n",
       "      <td>90032</td>\n",
       "      <td>West</td>\n",
       "      <td>Furniture</td>\n",
       "      <td>48.8600</td>\n",
       "      <td>7</td>\n",
       "      <td>0.00</td>\n",
       "      <td>14.1694</td>\n",
       "    </tr>\n",
       "    <tr>\n",
       "      <th>2014-06-09</th>\n",
       "      <td>11</td>\n",
       "      <td>CA-2014-115812</td>\n",
       "      <td>6/14/2014</td>\n",
       "      <td>Standard Class</td>\n",
       "      <td>Consumer</td>\n",
       "      <td>United States</td>\n",
       "      <td>Los Angeles</td>\n",
       "      <td>California</td>\n",
       "      <td>90032</td>\n",
       "      <td>West</td>\n",
       "      <td>Furniture</td>\n",
       "      <td>1706.1840</td>\n",
       "      <td>9</td>\n",
       "      <td>0.20</td>\n",
       "      <td>85.3092</td>\n",
       "    </tr>\n",
       "  </tbody>\n",
       "</table>\n",
       "</div>"
      ],
      "text/plain": [
       "            Row ID        Order ID   Ship Date       Ship Mode   Segment  \\\n",
       "Order Date                                                                 \n",
       "2016-11-08       1  CA-2016-152156  11-11-2016    Second Class  Consumer   \n",
       "2016-11-08       2  CA-2016-152156  11-11-2016    Second Class  Consumer   \n",
       "2015-10-11       4  US-2015-108966  10/18/2015  Standard Class  Consumer   \n",
       "2014-06-09       6  CA-2014-115812   6/14/2014  Standard Class  Consumer   \n",
       "2014-06-09      11  CA-2014-115812   6/14/2014  Standard Class  Consumer   \n",
       "\n",
       "                  Country             City       State  Postal Code Region  \\\n",
       "Order Date                                                                   \n",
       "2016-11-08  United States        Henderson    Kentucky        42420  South   \n",
       "2016-11-08  United States        Henderson    Kentucky        42420  South   \n",
       "2015-10-11  United States  Fort Lauderdale     Florida        33311  South   \n",
       "2014-06-09  United States      Los Angeles  California        90032   West   \n",
       "2014-06-09  United States      Los Angeles  California        90032   West   \n",
       "\n",
       "             Category      Sales  Quantity  Discount    Profit  \n",
       "Order Date                                                      \n",
       "2016-11-08  Furniture   261.9600         2      0.00   41.9136  \n",
       "2016-11-08  Furniture   731.9400         3      0.00  219.5820  \n",
       "2015-10-11  Furniture   957.5775         5      0.45 -383.0310  \n",
       "2014-06-09  Furniture    48.8600         7      0.00   14.1694  \n",
       "2014-06-09  Furniture  1706.1840         9      0.20   85.3092  "
      ]
     },
     "execution_count": 2,
     "metadata": {},
     "output_type": "execute_result"
    }
   ],
   "source": [
    "df = pd.read_csv('DS3_C1_S4_SuperstoreSales_Data_Challenge.csv',parse_dates=['Order Date'],index_col=['Order Date'])\n",
    "df.head() #importing data set with data index"
   ]
  },
  {
   "cell_type": "markdown",
   "id": "4f547e6e",
   "metadata": {},
   "source": [
    "2.perform data analysis to determine whether the data is  ready for time series analysis"
   ]
  },
  {
   "cell_type": "code",
   "execution_count": 3,
   "id": "0f486aa1",
   "metadata": {},
   "outputs": [
    {
     "data": {
      "text/html": [
       "<div>\n",
       "<style scoped>\n",
       "    .dataframe tbody tr th:only-of-type {\n",
       "        vertical-align: middle;\n",
       "    }\n",
       "\n",
       "    .dataframe tbody tr th {\n",
       "        vertical-align: top;\n",
       "    }\n",
       "\n",
       "    .dataframe thead th {\n",
       "        text-align: right;\n",
       "    }\n",
       "</style>\n",
       "<table border=\"1\" class=\"dataframe\">\n",
       "  <thead>\n",
       "    <tr style=\"text-align: right;\">\n",
       "      <th></th>\n",
       "      <th>Sales</th>\n",
       "    </tr>\n",
       "    <tr>\n",
       "      <th>Order Date</th>\n",
       "      <th></th>\n",
       "    </tr>\n",
       "  </thead>\n",
       "  <tbody>\n",
       "    <tr>\n",
       "      <th>2016-11-08</th>\n",
       "      <td>261.9600</td>\n",
       "    </tr>\n",
       "    <tr>\n",
       "      <th>2016-11-08</th>\n",
       "      <td>731.9400</td>\n",
       "    </tr>\n",
       "    <tr>\n",
       "      <th>2015-10-11</th>\n",
       "      <td>957.5775</td>\n",
       "    </tr>\n",
       "    <tr>\n",
       "      <th>2014-06-09</th>\n",
       "      <td>48.8600</td>\n",
       "    </tr>\n",
       "    <tr>\n",
       "      <th>2014-06-09</th>\n",
       "      <td>1706.1840</td>\n",
       "    </tr>\n",
       "    <tr>\n",
       "      <th>...</th>\n",
       "      <td>...</td>\n",
       "    </tr>\n",
       "    <tr>\n",
       "      <th>2015-03-19</th>\n",
       "      <td>383.4656</td>\n",
       "    </tr>\n",
       "    <tr>\n",
       "      <th>2016-12-05</th>\n",
       "      <td>13.4000</td>\n",
       "    </tr>\n",
       "    <tr>\n",
       "      <th>2015-09-06</th>\n",
       "      <td>85.9800</td>\n",
       "    </tr>\n",
       "    <tr>\n",
       "      <th>2014-01-21</th>\n",
       "      <td>25.2480</td>\n",
       "    </tr>\n",
       "    <tr>\n",
       "      <th>2017-02-26</th>\n",
       "      <td>91.9600</td>\n",
       "    </tr>\n",
       "  </tbody>\n",
       "</table>\n",
       "<p>2121 rows × 1 columns</p>\n",
       "</div>"
      ],
      "text/plain": [
       "                Sales\n",
       "Order Date           \n",
       "2016-11-08   261.9600\n",
       "2016-11-08   731.9400\n",
       "2015-10-11   957.5775\n",
       "2014-06-09    48.8600\n",
       "2014-06-09  1706.1840\n",
       "...               ...\n",
       "2015-03-19   383.4656\n",
       "2016-12-05    13.4000\n",
       "2015-09-06    85.9800\n",
       "2014-01-21    25.2480\n",
       "2017-02-26    91.9600\n",
       "\n",
       "[2121 rows x 1 columns]"
      ]
     },
     "execution_count": 3,
     "metadata": {},
     "output_type": "execute_result"
    }
   ],
   "source": [
    "x=df[['Sales']]\n",
    "x # data is not in order"
   ]
  },
  {
   "cell_type": "code",
   "execution_count": 4,
   "id": "45a528a2",
   "metadata": {},
   "outputs": [],
   "source": [
    "x.sort_index(ascending=True,inplace = True)"
   ]
  },
  {
   "cell_type": "code",
   "execution_count": 5,
   "id": "05f05a53",
   "metadata": {},
   "outputs": [
    {
     "data": {
      "text/html": [
       "<div>\n",
       "<style scoped>\n",
       "    .dataframe tbody tr th:only-of-type {\n",
       "        vertical-align: middle;\n",
       "    }\n",
       "\n",
       "    .dataframe tbody tr th {\n",
       "        vertical-align: top;\n",
       "    }\n",
       "\n",
       "    .dataframe thead th {\n",
       "        text-align: right;\n",
       "    }\n",
       "</style>\n",
       "<table border=\"1\" class=\"dataframe\">\n",
       "  <thead>\n",
       "    <tr style=\"text-align: right;\">\n",
       "      <th></th>\n",
       "      <th>Sales</th>\n",
       "    </tr>\n",
       "    <tr>\n",
       "      <th>Order Date</th>\n",
       "      <th></th>\n",
       "    </tr>\n",
       "  </thead>\n",
       "  <tbody>\n",
       "    <tr>\n",
       "      <th>2014-01-06</th>\n",
       "      <td>2573.820</td>\n",
       "    </tr>\n",
       "    <tr>\n",
       "      <th>2014-01-07</th>\n",
       "      <td>76.728</td>\n",
       "    </tr>\n",
       "    <tr>\n",
       "      <th>2014-01-10</th>\n",
       "      <td>51.940</td>\n",
       "    </tr>\n",
       "    <tr>\n",
       "      <th>2014-01-11</th>\n",
       "      <td>9.940</td>\n",
       "    </tr>\n",
       "    <tr>\n",
       "      <th>2014-01-13</th>\n",
       "      <td>545.940</td>\n",
       "    </tr>\n",
       "    <tr>\n",
       "      <th>2014-01-13</th>\n",
       "      <td>333.999</td>\n",
       "    </tr>\n",
       "    <tr>\n",
       "      <th>2014-01-14</th>\n",
       "      <td>61.960</td>\n",
       "    </tr>\n",
       "    <tr>\n",
       "      <th>2014-01-16</th>\n",
       "      <td>127.104</td>\n",
       "    </tr>\n",
       "    <tr>\n",
       "      <th>2014-01-19</th>\n",
       "      <td>181.470</td>\n",
       "    </tr>\n",
       "    <tr>\n",
       "      <th>2014-01-20</th>\n",
       "      <td>272.940</td>\n",
       "    </tr>\n",
       "    <tr>\n",
       "      <th>2014-01-20</th>\n",
       "      <td>14.730</td>\n",
       "    </tr>\n",
       "    <tr>\n",
       "      <th>2014-01-20</th>\n",
       "      <td>38.600</td>\n",
       "    </tr>\n",
       "    <tr>\n",
       "      <th>2014-01-20</th>\n",
       "      <td>19.300</td>\n",
       "    </tr>\n",
       "    <tr>\n",
       "      <th>2014-01-20</th>\n",
       "      <td>1067.940</td>\n",
       "    </tr>\n",
       "    <tr>\n",
       "      <th>2014-01-21</th>\n",
       "      <td>25.248</td>\n",
       "    </tr>\n",
       "    <tr>\n",
       "      <th>2014-01-26</th>\n",
       "      <td>141.960</td>\n",
       "    </tr>\n",
       "    <tr>\n",
       "      <th>2014-01-26</th>\n",
       "      <td>12.420</td>\n",
       "    </tr>\n",
       "    <tr>\n",
       "      <th>2014-01-26</th>\n",
       "      <td>62.820</td>\n",
       "    </tr>\n",
       "    <tr>\n",
       "      <th>2014-01-27</th>\n",
       "      <td>333.000</td>\n",
       "    </tr>\n",
       "    <tr>\n",
       "      <th>2014-01-31</th>\n",
       "      <td>290.666</td>\n",
       "    </tr>\n",
       "  </tbody>\n",
       "</table>\n",
       "</div>"
      ],
      "text/plain": [
       "               Sales\n",
       "Order Date          \n",
       "2014-01-06  2573.820\n",
       "2014-01-07    76.728\n",
       "2014-01-10    51.940\n",
       "2014-01-11     9.940\n",
       "2014-01-13   545.940\n",
       "2014-01-13   333.999\n",
       "2014-01-14    61.960\n",
       "2014-01-16   127.104\n",
       "2014-01-19   181.470\n",
       "2014-01-20   272.940\n",
       "2014-01-20    14.730\n",
       "2014-01-20    38.600\n",
       "2014-01-20    19.300\n",
       "2014-01-20  1067.940\n",
       "2014-01-21    25.248\n",
       "2014-01-26   141.960\n",
       "2014-01-26    12.420\n",
       "2014-01-26    62.820\n",
       "2014-01-27   333.000\n",
       "2014-01-31   290.666"
      ]
     },
     "execution_count": 5,
     "metadata": {},
     "output_type": "execute_result"
    }
   ],
   "source": [
    "x.head(20) # now data is in order"
   ]
  },
  {
   "cell_type": "code",
   "execution_count": 6,
   "id": "6002d6bd",
   "metadata": {},
   "outputs": [],
   "source": [
    "data = x.resample('M').mean() # data in month vise"
   ]
  },
  {
   "cell_type": "markdown",
   "id": "bfed3600",
   "metadata": {},
   "source": [
    "3.Perform some visual inspection of the data"
   ]
  },
  {
   "cell_type": "code",
   "execution_count": 7,
   "id": "4bfdae00",
   "metadata": {},
   "outputs": [
    {
     "data": {
      "text/plain": [
       "[<matplotlib.lines.Line2D at 0x270aac84400>]"
      ]
     },
     "execution_count": 7,
     "metadata": {},
     "output_type": "execute_result"
    },
    {
     "data": {
      "image/png": "[encoded data removed]",
      "text/plain": [
       "<Figure size 640x480 with 1 Axes>"
      ]
     },
     "metadata": {},
     "output_type": "display_data"
    }
   ],
   "source": [
    "plt.plot(data) # ploting"
   ]
  },
  {
   "cell_type": "code",
   "execution_count": null,
   "id": "1639d0bf",
   "metadata": {},
   "outputs": [],
   "source": []
  },
  {
   "cell_type": "markdown",
   "id": "8722f8df",
   "metadata": {},
   "source": [
    "4.Accomplish the decomposition of data"
   ]
  },
  {
   "cell_type": "code",
   "execution_count": 8,
   "id": "7b657791",
   "metadata": {},
   "outputs": [
    {
     "data": {
      "image/png": "[encoded data removed]",
      "text/plain": [
       "<Figure size 640x480 with 4 Axes>"
      ]
     },
     "metadata": {},
     "output_type": "display_data"
    }
   ],
   "source": [
    "seasonal_decompose(data).plot(); # to view data decomposition"
   ]
  },
  {
   "cell_type": "markdown",
   "id": "bbf25356",
   "metadata": {},
   "source": [
    "# Task 2"
   ]
  },
  {
   "cell_type": "markdown",
   "id": "491b9c10",
   "metadata": {},
   "source": [
    "1.Check data for Stationarity"
   ]
  },
  {
   "cell_type": "code",
   "execution_count": 9,
   "id": "f9009fec",
   "metadata": {},
   "outputs": [],
   "source": [
    "def check_stationarity(data): # to check the stationarity of the data\n",
    "    pvalue = adfuller(data['Sales'])[1]\n",
    "    print(\"P_value= {}\".format(pvalue))\n",
    "    \n",
    "    if pvalue < 0.05:\n",
    "        msg = ('Data is Stationarity Best for model Building')\n",
    "    else:\n",
    "        msg = ('Data is not Staionarity Make the data Stationarity before model building')\n",
    "    return msg"
   ]
  },
  {
   "cell_type": "code",
   "execution_count": 10,
   "id": "32d20174",
   "metadata": {},
   "outputs": [
    {
     "name": "stdout",
     "output_type": "stream",
     "text": [
      "P_value= 9.093398510006677e-10\n"
     ]
    },
    {
     "data": {
      "text/plain": [
       "'Data is Stationarity Best for model Building'"
      ]
     },
     "execution_count": 10,
     "metadata": {},
     "output_type": "execute_result"
    }
   ],
   "source": [
    "check_stationarity(data)"
   ]
  },
  {
   "cell_type": "markdown",
   "id": "70bde18c",
   "metadata": {},
   "source": [
    "2. plot ACF and PACF"
   ]
  },
  {
   "cell_type": "code",
   "execution_count": 11,
   "id": "f228c214",
   "metadata": {},
   "outputs": [
    {
     "data": {
      "image/png": "[encoded data removed]",
      "text/plain": [
       "<Figure size 800x600 with 2 Axes>"
      ]
     },
     "metadata": {},
     "output_type": "display_data"
    }
   ],
   "source": [
    "fig = plt.figure(figsize= (8,6)) # to see p and q lag value\n",
    "\n",
    "ax1 = fig.add_subplot(211)\n",
    "sm.graphics.tsa.plot_acf(data,lags = 20,ax = ax1)\n",
    "\n",
    "ax2 = fig.add_subplot(221)\n",
    "sm.graphics.tsa.plot_pacf(data,lags=20,ax = ax2)\n",
    "plt.tight_layout()"
   ]
  },
  {
   "cell_type": "markdown",
   "id": "79a7221d",
   "metadata": {},
   "source": [
    "# Task 4"
   ]
  },
  {
   "cell_type": "markdown",
   "id": "cbdbfac7",
   "metadata": {},
   "source": [
    "1) Build Arima model"
   ]
  },
  {
   "cell_type": "code",
   "execution_count": 12,
   "id": "fa7805e9",
   "metadata": {},
   "outputs": [
    {
     "data": {
      "text/html": [
       "<table class=\"simpletable\">\n",
       "<caption>SARIMAX Results</caption>\n",
       "<tr>\n",
       "  <th>Dep. Variable:</th>         <td>Sales</td>      <th>  No. Observations:  </th>    <td>48</td>   \n",
       "</tr>\n",
       "<tr>\n",
       "  <th>Model:</th>            <td>ARIMA(1, 0, 1)</td>  <th>  Log Likelihood     </th> <td>-283.479</td>\n",
       "</tr>\n",
       "<tr>\n",
       "  <th>Date:</th>            <td>Thu, 14 Sep 2023</td> <th>  AIC                </th>  <td>574.958</td>\n",
       "</tr>\n",
       "<tr>\n",
       "  <th>Time:</th>                <td>12:32:09</td>     <th>  BIC                </th>  <td>582.443</td>\n",
       "</tr>\n",
       "<tr>\n",
       "  <th>Sample:</th>             <td>01-31-2014</td>    <th>  HQIC               </th>  <td>577.786</td>\n",
       "</tr>\n",
       "<tr>\n",
       "  <th></th>                   <td>- 12-31-2017</td>   <th>                     </th>     <td> </td>   \n",
       "</tr>\n",
       "<tr>\n",
       "  <th>Covariance Type:</th>        <td>opg</td>       <th>                     </th>     <td> </td>   \n",
       "</tr>\n",
       "</table>\n",
       "<table class=\"simpletable\">\n",
       "<tr>\n",
       "     <td></td>       <th>coef</th>     <th>std err</th>      <th>z</th>      <th>P>|z|</th>  <th>[0.025</th>    <th>0.975]</th>  \n",
       "</tr>\n",
       "<tr>\n",
       "  <th>const</th>  <td>  346.5093</td> <td>   17.190</td> <td>   20.158</td> <td> 0.000</td> <td>  312.818</td> <td>  380.201</td>\n",
       "</tr>\n",
       "<tr>\n",
       "  <th>ar.L1</th>  <td>   -0.1612</td> <td>    4.249</td> <td>   -0.038</td> <td> 0.970</td> <td>   -8.489</td> <td>    8.166</td>\n",
       "</tr>\n",
       "<tr>\n",
       "  <th>ma.L1</th>  <td>    0.1209</td> <td>    4.304</td> <td>    0.028</td> <td> 0.978</td> <td>   -8.315</td> <td>    8.557</td>\n",
       "</tr>\n",
       "<tr>\n",
       "  <th>sigma2</th> <td> 7892.2331</td> <td> 1178.230</td> <td>    6.698</td> <td> 0.000</td> <td> 5582.944</td> <td> 1.02e+04</td>\n",
       "</tr>\n",
       "</table>\n",
       "<table class=\"simpletable\">\n",
       "<tr>\n",
       "  <th>Ljung-Box (L1) (Q):</th>     <td>0.00</td> <th>  Jarque-Bera (JB):  </th> <td>244.39</td>\n",
       "</tr>\n",
       "<tr>\n",
       "  <th>Prob(Q):</th>                <td>0.99</td> <th>  Prob(JB):          </th>  <td>0.00</td> \n",
       "</tr>\n",
       "<tr>\n",
       "  <th>Heteroskedasticity (H):</th> <td>0.34</td> <th>  Skew:              </th>  <td>2.33</td> \n",
       "</tr>\n",
       "<tr>\n",
       "  <th>Prob(H) (two-sided):</th>    <td>0.04</td> <th>  Kurtosis:          </th>  <td>13.02</td>\n",
       "</tr>\n",
       "</table><br/><br/>Warnings:<br/>[1] Covariance matrix calculated using the outer product of gradients (complex-step)."
      ],
      "text/plain": [
       "<class 'statsmodels.iolib.summary.Summary'>\n",
       "\"\"\"\n",
       "                               SARIMAX Results                                \n",
       "==============================================================================\n",
       "Dep. Variable:                  Sales   No. Observations:                   48\n",
       "Model:                 ARIMA(1, 0, 1)   Log Likelihood                -283.479\n",
       "Date:                Thu, 14 Sep 2023   AIC                            574.958\n",
       "Time:                        12:32:09   BIC                            582.443\n",
       "Sample:                    01-31-2014   HQIC                           577.786\n",
       "                         - 12-31-2017                                         \n",
       "Covariance Type:                  opg                                         \n",
       "==============================================================================\n",
       "                 coef    std err          z      P>|z|      [0.025      0.975]\n",
       "------------------------------------------------------------------------------\n",
       "const        346.5093     17.190     20.158      0.000     312.818     380.201\n",
       "ar.L1         -0.1612      4.249     -0.038      0.970      -8.489       8.166\n",
       "ma.L1          0.1209      4.304      0.028      0.978      -8.315       8.557\n",
       "sigma2      7892.2331   1178.230      6.698      0.000    5582.944    1.02e+04\n",
       "===================================================================================\n",
       "Ljung-Box (L1) (Q):                   0.00   Jarque-Bera (JB):               244.39\n",
       "Prob(Q):                              0.99   Prob(JB):                         0.00\n",
       "Heteroskedasticity (H):               0.34   Skew:                             2.33\n",
       "Prob(H) (two-sided):                  0.04   Kurtosis:                        13.02\n",
       "===================================================================================\n",
       "\n",
       "Warnings:\n",
       "[1] Covariance matrix calculated using the outer product of gradients (complex-step).\n",
       "\"\"\""
      ]
     },
     "execution_count": 12,
     "metadata": {},
     "output_type": "execute_result"
    }
   ],
   "source": [
    "arma1= ARIMA(data,order=(1,0,1)).fit()\n",
    "arma1.summary()"
   ]
  },
  {
   "cell_type": "code",
   "execution_count": 13,
   "id": "3d80f61f",
   "metadata": {},
   "outputs": [
    {
     "data": {
      "text/html": [
       "<table class=\"simpletable\">\n",
       "<caption>SARIMAX Results</caption>\n",
       "<tr>\n",
       "  <th>Dep. Variable:</th>         <td>Sales</td>      <th>  No. Observations:  </th>    <td>48</td>   \n",
       "</tr>\n",
       "<tr>\n",
       "  <th>Model:</th>            <td>ARIMA(2, 0, 1)</td>  <th>  Log Likelihood     </th> <td>-283.247</td>\n",
       "</tr>\n",
       "<tr>\n",
       "  <th>Date:</th>            <td>Thu, 14 Sep 2023</td> <th>  AIC                </th>  <td>576.494</td>\n",
       "</tr>\n",
       "<tr>\n",
       "  <th>Time:</th>                <td>12:32:10</td>     <th>  BIC                </th>  <td>585.850</td>\n",
       "</tr>\n",
       "<tr>\n",
       "  <th>Sample:</th>             <td>01-31-2014</td>    <th>  HQIC               </th>  <td>580.030</td>\n",
       "</tr>\n",
       "<tr>\n",
       "  <th></th>                   <td>- 12-31-2017</td>   <th>                     </th>     <td> </td>   \n",
       "</tr>\n",
       "<tr>\n",
       "  <th>Covariance Type:</th>        <td>opg</td>       <th>                     </th>     <td> </td>   \n",
       "</tr>\n",
       "</table>\n",
       "<table class=\"simpletable\">\n",
       "<tr>\n",
       "     <td></td>       <th>coef</th>     <th>std err</th>      <th>z</th>      <th>P>|z|</th>  <th>[0.025</th>    <th>0.975]</th>  \n",
       "</tr>\n",
       "<tr>\n",
       "  <th>const</th>  <td>  346.3086</td> <td>   19.762</td> <td>   17.524</td> <td> 0.000</td> <td>  307.577</td> <td>  385.041</td>\n",
       "</tr>\n",
       "<tr>\n",
       "  <th>ar.L1</th>  <td>    0.4609</td> <td>    1.893</td> <td>    0.243</td> <td> 0.808</td> <td>   -3.249</td> <td>    4.171</td>\n",
       "</tr>\n",
       "<tr>\n",
       "  <th>ar.L2</th>  <td>    0.1035</td> <td>    0.223</td> <td>    0.465</td> <td> 0.642</td> <td>   -0.333</td> <td>    0.540</td>\n",
       "</tr>\n",
       "<tr>\n",
       "  <th>ma.L1</th>  <td>   -0.5006</td> <td>    1.881</td> <td>   -0.266</td> <td> 0.790</td> <td>   -4.187</td> <td>    3.186</td>\n",
       "</tr>\n",
       "<tr>\n",
       "  <th>sigma2</th> <td> 7809.4563</td> <td> 1221.254</td> <td>    6.395</td> <td> 0.000</td> <td> 5415.842</td> <td> 1.02e+04</td>\n",
       "</tr>\n",
       "</table>\n",
       "<table class=\"simpletable\">\n",
       "<tr>\n",
       "  <th>Ljung-Box (L1) (Q):</th>     <td>0.00</td> <th>  Jarque-Bera (JB):  </th> <td>239.99</td>\n",
       "</tr>\n",
       "<tr>\n",
       "  <th>Prob(Q):</th>                <td>0.94</td> <th>  Prob(JB):          </th>  <td>0.00</td> \n",
       "</tr>\n",
       "<tr>\n",
       "  <th>Heteroskedasticity (H):</th> <td>0.34</td> <th>  Skew:              </th>  <td>2.32</td> \n",
       "</tr>\n",
       "<tr>\n",
       "  <th>Prob(H) (two-sided):</th>    <td>0.04</td> <th>  Kurtosis:          </th>  <td>12.93</td>\n",
       "</tr>\n",
       "</table><br/><br/>Warnings:<br/>[1] Covariance matrix calculated using the outer product of gradients (complex-step)."
      ],
      "text/plain": [
       "<class 'statsmodels.iolib.summary.Summary'>\n",
       "\"\"\"\n",
       "                               SARIMAX Results                                \n",
       "==============================================================================\n",
       "Dep. Variable:                  Sales   No. Observations:                   48\n",
       "Model:                 ARIMA(2, 0, 1)   Log Likelihood                -283.247\n",
       "Date:                Thu, 14 Sep 2023   AIC                            576.494\n",
       "Time:                        12:32:10   BIC                            585.850\n",
       "Sample:                    01-31-2014   HQIC                           580.030\n",
       "                         - 12-31-2017                                         \n",
       "Covariance Type:                  opg                                         \n",
       "==============================================================================\n",
       "                 coef    std err          z      P>|z|      [0.025      0.975]\n",
       "------------------------------------------------------------------------------\n",
       "const        346.3086     19.762     17.524      0.000     307.577     385.041\n",
       "ar.L1          0.4609      1.893      0.243      0.808      -3.249       4.171\n",
       "ar.L2          0.1035      0.223      0.465      0.642      -0.333       0.540\n",
       "ma.L1         -0.5006      1.881     -0.266      0.790      -4.187       3.186\n",
       "sigma2      7809.4563   1221.254      6.395      0.000    5415.842    1.02e+04\n",
       "===================================================================================\n",
       "Ljung-Box (L1) (Q):                   0.00   Jarque-Bera (JB):               239.99\n",
       "Prob(Q):                              0.94   Prob(JB):                         0.00\n",
       "Heteroskedasticity (H):               0.34   Skew:                             2.32\n",
       "Prob(H) (two-sided):                  0.04   Kurtosis:                        12.93\n",
       "===================================================================================\n",
       "\n",
       "Warnings:\n",
       "[1] Covariance matrix calculated using the outer product of gradients (complex-step).\n",
       "\"\"\""
      ]
     },
     "execution_count": 13,
     "metadata": {},
     "output_type": "execute_result"
    }
   ],
   "source": [
    "arma2 = ARIMA(data, order = (2,0,1)).fit()\n",
    "arma2.summary()"
   ]
  },
  {
   "cell_type": "code",
   "execution_count": 14,
   "id": "882b5b18",
   "metadata": {},
   "outputs": [
    {
     "data": {
      "text/html": [
       "<table class=\"simpletable\">\n",
       "<caption>SARIMAX Results</caption>\n",
       "<tr>\n",
       "  <th>Dep. Variable:</th>         <td>Sales</td>      <th>  No. Observations:  </th>    <td>48</td>   \n",
       "</tr>\n",
       "<tr>\n",
       "  <th>Model:</th>            <td>ARIMA(2, 0, 1)</td>  <th>  Log Likelihood     </th> <td>-283.247</td>\n",
       "</tr>\n",
       "<tr>\n",
       "  <th>Date:</th>            <td>Thu, 14 Sep 2023</td> <th>  AIC                </th>  <td>576.494</td>\n",
       "</tr>\n",
       "<tr>\n",
       "  <th>Time:</th>                <td>12:32:10</td>     <th>  BIC                </th>  <td>585.850</td>\n",
       "</tr>\n",
       "<tr>\n",
       "  <th>Sample:</th>             <td>01-31-2014</td>    <th>  HQIC               </th>  <td>580.030</td>\n",
       "</tr>\n",
       "<tr>\n",
       "  <th></th>                   <td>- 12-31-2017</td>   <th>                     </th>     <td> </td>   \n",
       "</tr>\n",
       "<tr>\n",
       "  <th>Covariance Type:</th>        <td>opg</td>       <th>                     </th>     <td> </td>   \n",
       "</tr>\n",
       "</table>\n",
       "<table class=\"simpletable\">\n",
       "<tr>\n",
       "     <td></td>       <th>coef</th>     <th>std err</th>      <th>z</th>      <th>P>|z|</th>  <th>[0.025</th>    <th>0.975]</th>  \n",
       "</tr>\n",
       "<tr>\n",
       "  <th>const</th>  <td>  346.3086</td> <td>   19.762</td> <td>   17.524</td> <td> 0.000</td> <td>  307.577</td> <td>  385.041</td>\n",
       "</tr>\n",
       "<tr>\n",
       "  <th>ar.L1</th>  <td>    0.4609</td> <td>    1.893</td> <td>    0.243</td> <td> 0.808</td> <td>   -3.249</td> <td>    4.171</td>\n",
       "</tr>\n",
       "<tr>\n",
       "  <th>ar.L2</th>  <td>    0.1035</td> <td>    0.223</td> <td>    0.465</td> <td> 0.642</td> <td>   -0.333</td> <td>    0.540</td>\n",
       "</tr>\n",
       "<tr>\n",
       "  <th>ma.L1</th>  <td>   -0.5006</td> <td>    1.881</td> <td>   -0.266</td> <td> 0.790</td> <td>   -4.187</td> <td>    3.186</td>\n",
       "</tr>\n",
       "<tr>\n",
       "  <th>sigma2</th> <td> 7809.4563</td> <td> 1221.254</td> <td>    6.395</td> <td> 0.000</td> <td> 5415.842</td> <td> 1.02e+04</td>\n",
       "</tr>\n",
       "</table>\n",
       "<table class=\"simpletable\">\n",
       "<tr>\n",
       "  <th>Ljung-Box (L1) (Q):</th>     <td>0.00</td> <th>  Jarque-Bera (JB):  </th> <td>239.99</td>\n",
       "</tr>\n",
       "<tr>\n",
       "  <th>Prob(Q):</th>                <td>0.94</td> <th>  Prob(JB):          </th>  <td>0.00</td> \n",
       "</tr>\n",
       "<tr>\n",
       "  <th>Heteroskedasticity (H):</th> <td>0.34</td> <th>  Skew:              </th>  <td>2.32</td> \n",
       "</tr>\n",
       "<tr>\n",
       "  <th>Prob(H) (two-sided):</th>    <td>0.04</td> <th>  Kurtosis:          </th>  <td>12.93</td>\n",
       "</tr>\n",
       "</table><br/><br/>Warnings:<br/>[1] Covariance matrix calculated using the outer product of gradients (complex-step)."
      ],
      "text/plain": [
       "<class 'statsmodels.iolib.summary.Summary'>\n",
       "\"\"\"\n",
       "                               SARIMAX Results                                \n",
       "==============================================================================\n",
       "Dep. Variable:                  Sales   No. Observations:                   48\n",
       "Model:                 ARIMA(2, 0, 1)   Log Likelihood                -283.247\n",
       "Date:                Thu, 14 Sep 2023   AIC                            576.494\n",
       "Time:                        12:32:10   BIC                            585.850\n",
       "Sample:                    01-31-2014   HQIC                           580.030\n",
       "                         - 12-31-2017                                         \n",
       "Covariance Type:                  opg                                         \n",
       "==============================================================================\n",
       "                 coef    std err          z      P>|z|      [0.025      0.975]\n",
       "------------------------------------------------------------------------------\n",
       "const        346.3086     19.762     17.524      0.000     307.577     385.041\n",
       "ar.L1          0.4609      1.893      0.243      0.808      -3.249       4.171\n",
       "ar.L2          0.1035      0.223      0.465      0.642      -0.333       0.540\n",
       "ma.L1         -0.5006      1.881     -0.266      0.790      -4.187       3.186\n",
       "sigma2      7809.4563   1221.254      6.395      0.000    5415.842    1.02e+04\n",
       "===================================================================================\n",
       "Ljung-Box (L1) (Q):                   0.00   Jarque-Bera (JB):               239.99\n",
       "Prob(Q):                              0.94   Prob(JB):                         0.00\n",
       "Heteroskedasticity (H):               0.34   Skew:                             2.32\n",
       "Prob(H) (two-sided):                  0.04   Kurtosis:                        12.93\n",
       "===================================================================================\n",
       "\n",
       "Warnings:\n",
       "[1] Covariance matrix calculated using the outer product of gradients (complex-step).\n",
       "\"\"\""
      ]
     },
     "execution_count": 14,
     "metadata": {},
     "output_type": "execute_result"
    }
   ],
   "source": [
    "arma3 = ARIMA(data, order=(2,0,2)).fit()\n",
    "arma2.summary()"
   ]
  },
  {
   "cell_type": "markdown",
   "id": "1d65e5e5",
   "metadata": {},
   "source": [
    "# Interpretation:\n",
    "AIC score of ARMA(1) model is 574.958\n",
    "\n",
    "AIC score of ARMA(2) model is 576.494\n",
    "\n",
    "AIC score of ARMA(3) model is 576.494\n",
    "\n",
    "Lesser the AIC score is better the model. Hence ARMA(1) is the better model"
   ]
  },
  {
   "cell_type": "code",
   "execution_count": 15,
   "id": "63f2105b",
   "metadata": {},
   "outputs": [
    {
     "name": "stdout",
     "output_type": "stream",
     "text": [
      "train = 33 , test = 15\n"
     ]
    }
   ],
   "source": [
    "ss = int(0.7 * len(data))\n",
    "train = data.iloc[:ss]\n",
    "test = data.iloc[ss:]\n",
    "print(\"train = {} , test = {}\".format(len(train),len(test)))"
   ]
  },
  {
   "cell_type": "markdown",
   "id": "302151dc",
   "metadata": {},
   "source": [
    "2) Summarize the ARIMA model"
   ]
  },
  {
   "cell_type": "code",
   "execution_count": 16,
   "id": "54f3e061",
   "metadata": {},
   "outputs": [
    {
     "data": {
      "text/html": [
       "<table class=\"simpletable\">\n",
       "<caption>SARIMAX Results</caption>\n",
       "<tr>\n",
       "  <th>Dep. Variable:</th>         <td>Sales</td>      <th>  No. Observations:  </th>    <td>48</td>   \n",
       "</tr>\n",
       "<tr>\n",
       "  <th>Model:</th>            <td>ARIMA(1, 0, 1)</td>  <th>  Log Likelihood     </th> <td>-283.479</td>\n",
       "</tr>\n",
       "<tr>\n",
       "  <th>Date:</th>            <td>Thu, 14 Sep 2023</td> <th>  AIC                </th>  <td>574.958</td>\n",
       "</tr>\n",
       "<tr>\n",
       "  <th>Time:</th>                <td>12:32:10</td>     <th>  BIC                </th>  <td>582.443</td>\n",
       "</tr>\n",
       "<tr>\n",
       "  <th>Sample:</th>             <td>01-31-2014</td>    <th>  HQIC               </th>  <td>577.786</td>\n",
       "</tr>\n",
       "<tr>\n",
       "  <th></th>                   <td>- 12-31-2017</td>   <th>                     </th>     <td> </td>   \n",
       "</tr>\n",
       "<tr>\n",
       "  <th>Covariance Type:</th>        <td>opg</td>       <th>                     </th>     <td> </td>   \n",
       "</tr>\n",
       "</table>\n",
       "<table class=\"simpletable\">\n",
       "<tr>\n",
       "     <td></td>       <th>coef</th>     <th>std err</th>      <th>z</th>      <th>P>|z|</th>  <th>[0.025</th>    <th>0.975]</th>  \n",
       "</tr>\n",
       "<tr>\n",
       "  <th>const</th>  <td>  346.5093</td> <td>   17.190</td> <td>   20.158</td> <td> 0.000</td> <td>  312.818</td> <td>  380.201</td>\n",
       "</tr>\n",
       "<tr>\n",
       "  <th>ar.L1</th>  <td>   -0.1612</td> <td>    4.249</td> <td>   -0.038</td> <td> 0.970</td> <td>   -8.489</td> <td>    8.166</td>\n",
       "</tr>\n",
       "<tr>\n",
       "  <th>ma.L1</th>  <td>    0.1209</td> <td>    4.304</td> <td>    0.028</td> <td> 0.978</td> <td>   -8.315</td> <td>    8.557</td>\n",
       "</tr>\n",
       "<tr>\n",
       "  <th>sigma2</th> <td> 7892.2331</td> <td> 1178.230</td> <td>    6.698</td> <td> 0.000</td> <td> 5582.944</td> <td> 1.02e+04</td>\n",
       "</tr>\n",
       "</table>\n",
       "<table class=\"simpletable\">\n",
       "<tr>\n",
       "  <th>Ljung-Box (L1) (Q):</th>     <td>0.00</td> <th>  Jarque-Bera (JB):  </th> <td>244.39</td>\n",
       "</tr>\n",
       "<tr>\n",
       "  <th>Prob(Q):</th>                <td>0.99</td> <th>  Prob(JB):          </th>  <td>0.00</td> \n",
       "</tr>\n",
       "<tr>\n",
       "  <th>Heteroskedasticity (H):</th> <td>0.34</td> <th>  Skew:              </th>  <td>2.33</td> \n",
       "</tr>\n",
       "<tr>\n",
       "  <th>Prob(H) (two-sided):</th>    <td>0.04</td> <th>  Kurtosis:          </th>  <td>13.02</td>\n",
       "</tr>\n",
       "</table><br/><br/>Warnings:<br/>[1] Covariance matrix calculated using the outer product of gradients (complex-step)."
      ],
      "text/plain": [
       "<class 'statsmodels.iolib.summary.Summary'>\n",
       "\"\"\"\n",
       "                               SARIMAX Results                                \n",
       "==============================================================================\n",
       "Dep. Variable:                  Sales   No. Observations:                   48\n",
       "Model:                 ARIMA(1, 0, 1)   Log Likelihood                -283.479\n",
       "Date:                Thu, 14 Sep 2023   AIC                            574.958\n",
       "Time:                        12:32:10   BIC                            582.443\n",
       "Sample:                    01-31-2014   HQIC                           577.786\n",
       "                         - 12-31-2017                                         \n",
       "Covariance Type:                  opg                                         \n",
       "==============================================================================\n",
       "                 coef    std err          z      P>|z|      [0.025      0.975]\n",
       "------------------------------------------------------------------------------\n",
       "const        346.5093     17.190     20.158      0.000     312.818     380.201\n",
       "ar.L1         -0.1612      4.249     -0.038      0.970      -8.489       8.166\n",
       "ma.L1          0.1209      4.304      0.028      0.978      -8.315       8.557\n",
       "sigma2      7892.2331   1178.230      6.698      0.000    5582.944    1.02e+04\n",
       "===================================================================================\n",
       "Ljung-Box (L1) (Q):                   0.00   Jarque-Bera (JB):               244.39\n",
       "Prob(Q):                              0.99   Prob(JB):                         0.00\n",
       "Heteroskedasticity (H):               0.34   Skew:                             2.33\n",
       "Prob(H) (two-sided):                  0.04   Kurtosis:                        13.02\n",
       "===================================================================================\n",
       "\n",
       "Warnings:\n",
       "[1] Covariance matrix calculated using the outer product of gradients (complex-step).\n",
       "\"\"\""
      ]
     },
     "execution_count": 16,
     "metadata": {},
     "output_type": "execute_result"
    }
   ],
   "source": [
    "m1 = ARIMA(data['Sales'],order=(1,0,1)).fit()\n",
    "m1.summary()"
   ]
  },
  {
   "cell_type": "markdown",
   "id": "67b84172",
   "metadata": {},
   "source": [
    "3) Forecast using model"
   ]
  },
  {
   "cell_type": "code",
   "execution_count": 17,
   "id": "2a96adf1",
   "metadata": {},
   "outputs": [
    {
     "data": {
      "text/plain": [
       "2018-01-31    348.691010\n",
       "2018-02-28    346.157596\n",
       "2018-03-31    346.566006\n",
       "2018-04-30    346.500166\n",
       "2018-05-31    346.510780\n",
       "2018-06-30    346.509069\n",
       "2018-07-31    346.509345\n",
       "2018-08-31    346.509300\n",
       "2018-09-30    346.509308\n",
       "2018-10-31    346.509306\n",
       "2018-11-30    346.509307\n",
       "2018-12-31    346.509307\n",
       "Freq: M, Name: predicted_mean, dtype: float64"
      ]
     },
     "execution_count": 17,
     "metadata": {},
     "output_type": "execute_result"
    }
   ],
   "source": [
    "fcast = m1.predict(start = len(data),end =len(data)+11,typ = 'levels')\n",
    "fcast"
   ]
  },
  {
   "cell_type": "code",
   "execution_count": 18,
   "id": "9bf22f14",
   "metadata": {},
   "outputs": [
    {
     "data": {
      "text/plain": [
       "<AxesSubplot:xlabel='Order Date'>"
      ]
     },
     "execution_count": 18,
     "metadata": {},
     "output_type": "execute_result"
    },
    {
     "data": {
      "image/png": "[encoded data removed]",
      "text/plain": [
       "<Figure size 1000x800 with 1 Axes>"
      ]
     },
     "metadata": {},
     "output_type": "display_data"
    }
   ],
   "source": [
    "data['Sales'].plot(figsize=(10,8), legend= True)\n",
    "fcast.plot(legend=True)\n"
   ]
  },
  {
   "cell_type": "code",
   "execution_count": null,
   "id": "f8b2552a",
   "metadata": {},
   "outputs": [],
   "source": []
  },
  {
   "cell_type": "markdown",
   "id": "a941dd0e",
   "metadata": {},
   "source": [
    "# Task 5 "
   ]
  },
  {
   "cell_type": "markdown",
   "id": "e37c8ae7",
   "metadata": {},
   "source": [
    "1)Build the SARIMA model"
   ]
  },
  {
   "cell_type": "code",
   "execution_count": 20,
   "id": "7e5aac27",
   "metadata": {},
   "outputs": [
    {
     "data": {
      "text/html": [
       "<table class=\"simpletable\">\n",
       "<caption>SARIMAX Results</caption>\n",
       "<tr>\n",
       "  <th>Dep. Variable:</th>                <td>Sales</td>             <th>  No. Observations:  </th>    <td>48</td>   \n",
       "</tr>\n",
       "<tr>\n",
       "  <th>Model:</th>           <td>SARIMAX(1, 1, 1)x(1, 1, 1, 12)</td> <th>  Log Likelihood     </th> <td>-216.017</td>\n",
       "</tr>\n",
       "<tr>\n",
       "  <th>Date:</th>                   <td>Thu, 14 Sep 2023</td>        <th>  AIC                </th>  <td>442.033</td>\n",
       "</tr>\n",
       "<tr>\n",
       "  <th>Time:</th>                       <td>12:37:51</td>            <th>  BIC                </th>  <td>449.810</td>\n",
       "</tr>\n",
       "<tr>\n",
       "  <th>Sample:</th>                    <td>01-31-2014</td>           <th>  HQIC               </th>  <td>444.718</td>\n",
       "</tr>\n",
       "<tr>\n",
       "  <th></th>                          <td>- 12-31-2017</td>          <th>                     </th>     <td> </td>   \n",
       "</tr>\n",
       "<tr>\n",
       "  <th>Covariance Type:</th>               <td>opg</td>              <th>                     </th>     <td> </td>   \n",
       "</tr>\n",
       "</table>\n",
       "<table class=\"simpletable\">\n",
       "<tr>\n",
       "      <td></td>        <th>coef</th>     <th>std err</th>      <th>z</th>      <th>P>|z|</th>  <th>[0.025</th>    <th>0.975]</th>  \n",
       "</tr>\n",
       "<tr>\n",
       "  <th>ar.L1</th>    <td>   -0.0284</td> <td>    0.259</td> <td>   -0.110</td> <td> 0.913</td> <td>   -0.537</td> <td>    0.480</td>\n",
       "</tr>\n",
       "<tr>\n",
       "  <th>ma.L1</th>    <td>   -0.9991</td> <td>   31.355</td> <td>   -0.032</td> <td> 0.975</td> <td>  -62.453</td> <td>   60.455</td>\n",
       "</tr>\n",
       "<tr>\n",
       "  <th>ar.S.L12</th> <td>   -0.0455</td> <td>    0.345</td> <td>   -0.132</td> <td> 0.895</td> <td>   -0.722</td> <td>    0.631</td>\n",
       "</tr>\n",
       "<tr>\n",
       "  <th>ma.S.L12</th> <td>   -0.9984</td> <td>  303.544</td> <td>   -0.003</td> <td> 0.997</td> <td> -595.933</td> <td>  593.936</td>\n",
       "</tr>\n",
       "<tr>\n",
       "  <th>sigma2</th>   <td> 7326.7989</td> <td> 2.25e+06</td> <td>    0.003</td> <td> 0.997</td> <td>-4.41e+06</td> <td> 4.43e+06</td>\n",
       "</tr>\n",
       "</table>\n",
       "<table class=\"simpletable\">\n",
       "<tr>\n",
       "  <th>Ljung-Box (L1) (Q):</th>     <td>0.73</td> <th>  Jarque-Bera (JB):  </th> <td>0.99</td> \n",
       "</tr>\n",
       "<tr>\n",
       "  <th>Prob(Q):</th>                <td>0.39</td> <th>  Prob(JB):          </th> <td>0.61</td> \n",
       "</tr>\n",
       "<tr>\n",
       "  <th>Heteroskedasticity (H):</th> <td>0.44</td> <th>  Skew:              </th> <td>-0.36</td>\n",
       "</tr>\n",
       "<tr>\n",
       "  <th>Prob(H) (two-sided):</th>    <td>0.17</td> <th>  Kurtosis:          </th> <td>2.61</td> \n",
       "</tr>\n",
       "</table><br/><br/>Warnings:<br/>[1] Covariance matrix calculated using the outer product of gradients (complex-step)."
      ],
      "text/plain": [
       "<class 'statsmodels.iolib.summary.Summary'>\n",
       "\"\"\"\n",
       "                                     SARIMAX Results                                      \n",
       "==========================================================================================\n",
       "Dep. Variable:                              Sales   No. Observations:                   48\n",
       "Model:             SARIMAX(1, 1, 1)x(1, 1, 1, 12)   Log Likelihood                -216.017\n",
       "Date:                            Thu, 14 Sep 2023   AIC                            442.033\n",
       "Time:                                    12:37:51   BIC                            449.810\n",
       "Sample:                                01-31-2014   HQIC                           444.718\n",
       "                                     - 12-31-2017                                         \n",
       "Covariance Type:                              opg                                         \n",
       "==============================================================================\n",
       "                 coef    std err          z      P>|z|      [0.025      0.975]\n",
       "------------------------------------------------------------------------------\n",
       "ar.L1         -0.0284      0.259     -0.110      0.913      -0.537       0.480\n",
       "ma.L1         -0.9991     31.355     -0.032      0.975     -62.453      60.455\n",
       "ar.S.L12      -0.0455      0.345     -0.132      0.895      -0.722       0.631\n",
       "ma.S.L12      -0.9984    303.544     -0.003      0.997    -595.933     593.936\n",
       "sigma2      7326.7989   2.25e+06      0.003      0.997   -4.41e+06    4.43e+06\n",
       "===================================================================================\n",
       "Ljung-Box (L1) (Q):                   0.73   Jarque-Bera (JB):                 0.99\n",
       "Prob(Q):                              0.39   Prob(JB):                         0.61\n",
       "Heteroskedasticity (H):               0.44   Skew:                            -0.36\n",
       "Prob(H) (two-sided):                  0.17   Kurtosis:                         2.61\n",
       "===================================================================================\n",
       "\n",
       "Warnings:\n",
       "[1] Covariance matrix calculated using the outer product of gradients (complex-step).\n",
       "\"\"\""
      ]
     },
     "execution_count": 20,
     "metadata": {},
     "output_type": "execute_result"
    }
   ],
   "source": [
    "p=1;d=1;q=1\n",
    "sm1= sm.tsa.statespace.SARIMAX(data,order=(p,d,q),seasonal_order=(p,d,q,12)).fit()\n",
    "sm1.summary()"
   ]
  },
  {
   "cell_type": "code",
   "execution_count": 22,
   "id": "bb462d94",
   "metadata": {},
   "outputs": [
    {
     "data": {
      "text/html": [
       "<table class=\"simpletable\">\n",
       "<caption>SARIMAX Results</caption>\n",
       "<tr>\n",
       "  <th>Dep. Variable:</th>         <td>Sales</td>      <th>  No. Observations:  </th>    <td>48</td>   \n",
       "</tr>\n",
       "<tr>\n",
       "  <th>Model:</th>           <td>SARIMAX(2, 1, 1)</td> <th>  Log Likelihood     </th> <td>-279.706</td>\n",
       "</tr>\n",
       "<tr>\n",
       "  <th>Date:</th>            <td>Thu, 14 Sep 2023</td> <th>  AIC                </th>  <td>567.412</td>\n",
       "</tr>\n",
       "<tr>\n",
       "  <th>Time:</th>                <td>12:40:00</td>     <th>  BIC                </th>  <td>574.812</td>\n",
       "</tr>\n",
       "<tr>\n",
       "  <th>Sample:</th>             <td>01-31-2014</td>    <th>  HQIC               </th>  <td>570.196</td>\n",
       "</tr>\n",
       "<tr>\n",
       "  <th></th>                   <td>- 12-31-2017</td>   <th>                     </th>     <td> </td>   \n",
       "</tr>\n",
       "<tr>\n",
       "  <th>Covariance Type:</th>        <td>opg</td>       <th>                     </th>     <td> </td>   \n",
       "</tr>\n",
       "</table>\n",
       "<table class=\"simpletable\">\n",
       "<tr>\n",
       "     <td></td>       <th>coef</th>     <th>std err</th>      <th>z</th>      <th>P>|z|</th>  <th>[0.025</th>    <th>0.975]</th>  \n",
       "</tr>\n",
       "<tr>\n",
       "  <th>ar.L1</th>  <td>   -0.0651</td> <td>    0.202</td> <td>   -0.322</td> <td> 0.747</td> <td>   -0.461</td> <td>    0.331</td>\n",
       "</tr>\n",
       "<tr>\n",
       "  <th>ar.L2</th>  <td>    0.0135</td> <td>    0.258</td> <td>    0.052</td> <td> 0.958</td> <td>   -0.493</td> <td>    0.520</td>\n",
       "</tr>\n",
       "<tr>\n",
       "  <th>ma.L1</th>  <td>   -0.9234</td> <td>    0.130</td> <td>   -7.104</td> <td> 0.000</td> <td>   -1.178</td> <td>   -0.669</td>\n",
       "</tr>\n",
       "<tr>\n",
       "  <th>sigma2</th> <td> 8277.4464</td> <td>  917.205</td> <td>    9.025</td> <td> 0.000</td> <td> 6479.758</td> <td> 1.01e+04</td>\n",
       "</tr>\n",
       "</table>\n",
       "<table class=\"simpletable\">\n",
       "<tr>\n",
       "  <th>Ljung-Box (L1) (Q):</th>     <td>0.01</td> <th>  Jarque-Bera (JB):  </th> <td>161.29</td>\n",
       "</tr>\n",
       "<tr>\n",
       "  <th>Prob(Q):</th>                <td>0.92</td> <th>  Prob(JB):          </th>  <td>0.00</td> \n",
       "</tr>\n",
       "<tr>\n",
       "  <th>Heteroskedasticity (H):</th> <td>0.34</td> <th>  Skew:              </th>  <td>2.05</td> \n",
       "</tr>\n",
       "<tr>\n",
       "  <th>Prob(H) (two-sided):</th>    <td>0.04</td> <th>  Kurtosis:          </th>  <td>11.09</td>\n",
       "</tr>\n",
       "</table><br/><br/>Warnings:<br/>[1] Covariance matrix calculated using the outer product of gradients (complex-step)."
      ],
      "text/plain": [
       "<class 'statsmodels.iolib.summary.Summary'>\n",
       "\"\"\"\n",
       "                               SARIMAX Results                                \n",
       "==============================================================================\n",
       "Dep. Variable:                  Sales   No. Observations:                   48\n",
       "Model:               SARIMAX(2, 1, 1)   Log Likelihood                -279.706\n",
       "Date:                Thu, 14 Sep 2023   AIC                            567.412\n",
       "Time:                        12:40:00   BIC                            574.812\n",
       "Sample:                    01-31-2014   HQIC                           570.196\n",
       "                         - 12-31-2017                                         \n",
       "Covariance Type:                  opg                                         \n",
       "==============================================================================\n",
       "                 coef    std err          z      P>|z|      [0.025      0.975]\n",
       "------------------------------------------------------------------------------\n",
       "ar.L1         -0.0651      0.202     -0.322      0.747      -0.461       0.331\n",
       "ar.L2          0.0135      0.258      0.052      0.958      -0.493       0.520\n",
       "ma.L1         -0.9234      0.130     -7.104      0.000      -1.178      -0.669\n",
       "sigma2      8277.4464    917.205      9.025      0.000    6479.758    1.01e+04\n",
       "===================================================================================\n",
       "Ljung-Box (L1) (Q):                   0.01   Jarque-Bera (JB):               161.29\n",
       "Prob(Q):                              0.92   Prob(JB):                         0.00\n",
       "Heteroskedasticity (H):               0.34   Skew:                             2.05\n",
       "Prob(H) (two-sided):                  0.04   Kurtosis:                        11.09\n",
       "===================================================================================\n",
       "\n",
       "Warnings:\n",
       "[1] Covariance matrix calculated using the outer product of gradients (complex-step).\n",
       "\"\"\""
      ]
     },
     "execution_count": 22,
     "metadata": {},
     "output_type": "execute_result"
    }
   ],
   "source": [
    "p,d,q=(2,1,1)\n",
    "sm2=sm.tsa.statespace.SARIMAX(data,order=(p,d,q),seasonal_decompose=(p,d,q,12)).fit()\n",
    "sm2.summary()"
   ]
  },
  {
   "cell_type": "code",
   "execution_count": 23,
   "id": "a3aaa9ea",
   "metadata": {},
   "outputs": [
    {
     "name": "stderr",
     "output_type": "stream",
     "text": [
      "C:\\Users\\prabh\\anaconda3\\lib\\site-packages\\statsmodels\\base\\model.py:604: ConvergenceWarning: Maximum Likelihood optimization failed to converge. Check mle_retvals\n",
      "  warnings.warn(\"Maximum Likelihood optimization failed to \"\n"
     ]
    },
    {
     "data": {
      "text/html": [
       "<table class=\"simpletable\">\n",
       "<caption>SARIMAX Results</caption>\n",
       "<tr>\n",
       "  <th>Dep. Variable:</th>                <td>Sales</td>             <th>  No. Observations:  </th>    <td>48</td>   \n",
       "</tr>\n",
       "<tr>\n",
       "  <th>Model:</th>           <td>SARIMAX(3, 2, 1)x(3, 2, 1, 12)</td> <th>  Log Likelihood     </th> <td>-147.142</td>\n",
       "</tr>\n",
       "<tr>\n",
       "  <th>Date:</th>                   <td>Thu, 14 Sep 2023</td>        <th>  AIC                </th>  <td>312.284</td>\n",
       "</tr>\n",
       "<tr>\n",
       "  <th>Time:</th>                       <td>12:41:25</td>            <th>  BIC                </th>  <td>322.103</td>\n",
       "</tr>\n",
       "<tr>\n",
       "  <th>Sample:</th>                    <td>01-31-2014</td>           <th>  HQIC               </th>  <td>314.597</td>\n",
       "</tr>\n",
       "<tr>\n",
       "  <th></th>                          <td>- 12-31-2017</td>          <th>                     </th>     <td> </td>   \n",
       "</tr>\n",
       "<tr>\n",
       "  <th>Covariance Type:</th>               <td>opg</td>              <th>                     </th>     <td> </td>   \n",
       "</tr>\n",
       "</table>\n",
       "<table class=\"simpletable\">\n",
       "<tr>\n",
       "      <td></td>        <th>coef</th>     <th>std err</th>      <th>z</th>      <th>P>|z|</th>  <th>[0.025</th>    <th>0.975]</th>  \n",
       "</tr>\n",
       "<tr>\n",
       "  <th>ar.L1</th>    <td>   -0.7019</td> <td>    0.432</td> <td>   -1.625</td> <td> 0.104</td> <td>   -1.548</td> <td>    0.145</td>\n",
       "</tr>\n",
       "<tr>\n",
       "  <th>ar.L2</th>    <td>   -0.3932</td> <td>    0.510</td> <td>   -0.770</td> <td> 0.441</td> <td>   -1.394</td> <td>    0.607</td>\n",
       "</tr>\n",
       "<tr>\n",
       "  <th>ar.L3</th>    <td>   -0.1675</td> <td>    0.438</td> <td>   -0.382</td> <td> 0.702</td> <td>   -1.026</td> <td>    0.691</td>\n",
       "</tr>\n",
       "<tr>\n",
       "  <th>ma.L1</th>    <td>   -0.8476</td> <td>    0.489</td> <td>   -1.733</td> <td> 0.083</td> <td>   -1.806</td> <td>    0.111</td>\n",
       "</tr>\n",
       "<tr>\n",
       "  <th>ar.S.L12</th> <td>   -2.1196</td> <td>    8.511</td> <td>   -0.249</td> <td> 0.803</td> <td>  -18.801</td> <td>   14.562</td>\n",
       "</tr>\n",
       "<tr>\n",
       "  <th>ar.S.L24</th> <td>   -2.0779</td> <td>    6.990</td> <td>   -0.297</td> <td> 0.766</td> <td>  -15.777</td> <td>   11.622</td>\n",
       "</tr>\n",
       "<tr>\n",
       "  <th>ar.S.L36</th> <td>   -0.9582</td> <td>    3.764</td> <td>   -0.255</td> <td> 0.799</td> <td>   -8.335</td> <td>    6.419</td>\n",
       "</tr>\n",
       "<tr>\n",
       "  <th>ma.S.L12</th> <td>    0.9982</td> <td>   61.937</td> <td>    0.016</td> <td> 0.987</td> <td> -120.397</td> <td>  122.393</td>\n",
       "</tr>\n",
       "<tr>\n",
       "  <th>sigma2</th>   <td> 3123.4644</td> <td>    0.023</td> <td> 1.34e+05</td> <td> 0.000</td> <td> 3123.419</td> <td> 3123.510</td>\n",
       "</tr>\n",
       "</table>\n",
       "<table class=\"simpletable\">\n",
       "<tr>\n",
       "  <th>Ljung-Box (L1) (Q):</th>     <td>0.77</td> <th>  Jarque-Bera (JB):  </th> <td>0.20</td>\n",
       "</tr>\n",
       "<tr>\n",
       "  <th>Prob(Q):</th>                <td>0.38</td> <th>  Prob(JB):          </th> <td>0.90</td>\n",
       "</tr>\n",
       "<tr>\n",
       "  <th>Heteroskedasticity (H):</th> <td>0.22</td> <th>  Skew:              </th> <td>0.19</td>\n",
       "</tr>\n",
       "<tr>\n",
       "  <th>Prob(H) (two-sided):</th>    <td>0.06</td> <th>  Kurtosis:          </th> <td>2.73</td>\n",
       "</tr>\n",
       "</table><br/><br/>Warnings:<br/>[1] Covariance matrix calculated using the outer product of gradients (complex-step).<br/>[2] Covariance matrix is singular or near-singular, with condition number 2.58e+22. Standard errors may be unstable."
      ],
      "text/plain": [
       "<class 'statsmodels.iolib.summary.Summary'>\n",
       "\"\"\"\n",
       "                                     SARIMAX Results                                      \n",
       "==========================================================================================\n",
       "Dep. Variable:                              Sales   No. Observations:                   48\n",
       "Model:             SARIMAX(3, 2, 1)x(3, 2, 1, 12)   Log Likelihood                -147.142\n",
       "Date:                            Thu, 14 Sep 2023   AIC                            312.284\n",
       "Time:                                    12:41:25   BIC                            322.103\n",
       "Sample:                                01-31-2014   HQIC                           314.597\n",
       "                                     - 12-31-2017                                         \n",
       "Covariance Type:                              opg                                         \n",
       "==============================================================================\n",
       "                 coef    std err          z      P>|z|      [0.025      0.975]\n",
       "------------------------------------------------------------------------------\n",
       "ar.L1         -0.7019      0.432     -1.625      0.104      -1.548       0.145\n",
       "ar.L2         -0.3932      0.510     -0.770      0.441      -1.394       0.607\n",
       "ar.L3         -0.1675      0.438     -0.382      0.702      -1.026       0.691\n",
       "ma.L1         -0.8476      0.489     -1.733      0.083      -1.806       0.111\n",
       "ar.S.L12      -2.1196      8.511     -0.249      0.803     -18.801      14.562\n",
       "ar.S.L24      -2.0779      6.990     -0.297      0.766     -15.777      11.622\n",
       "ar.S.L36      -0.9582      3.764     -0.255      0.799      -8.335       6.419\n",
       "ma.S.L12       0.9982     61.937      0.016      0.987    -120.397     122.393\n",
       "sigma2      3123.4644      0.023   1.34e+05      0.000    3123.419    3123.510\n",
       "===================================================================================\n",
       "Ljung-Box (L1) (Q):                   0.77   Jarque-Bera (JB):                 0.20\n",
       "Prob(Q):                              0.38   Prob(JB):                         0.90\n",
       "Heteroskedasticity (H):               0.22   Skew:                             0.19\n",
       "Prob(H) (two-sided):                  0.06   Kurtosis:                         2.73\n",
       "===================================================================================\n",
       "\n",
       "Warnings:\n",
       "[1] Covariance matrix calculated using the outer product of gradients (complex-step).\n",
       "[2] Covariance matrix is singular or near-singular, with condition number 2.58e+22. Standard errors may be unstable.\n",
       "\"\"\""
      ]
     },
     "execution_count": 23,
     "metadata": {},
     "output_type": "execute_result"
    }
   ],
   "source": [
    "p,d,q=(3,2,1)\n",
    "sm3=sm.tsa.statespace.SARIMAX(data,order=(p,d,q),seasonal_order=(p,d,q,12)).fit()\n",
    "sm3.summary()"
   ]
  },
  {
   "cell_type": "markdown",
   "id": "e468ddda",
   "metadata": {},
   "source": [
    "# Interpretion\n",
    "AIC score of SARIMA(1) model is 442.033\n",
    "\n",
    "AIC score of SARIMA(2) model is 567.412\n",
    "\n",
    "AIC score of SARIMA(3) model is 312.284\n",
    "\n",
    "Lesser the AIC score is better the model. Hence SARIMA(3) is the better model."
   ]
  },
  {
   "cell_type": "raw",
   "id": "cdeee99d",
   "metadata": {},
   "source": [
    "2) Predict the sales figures using test data."
   ]
  },
  {
   "cell_type": "code",
   "execution_count": 25,
   "id": "ccb83552",
   "metadata": {},
   "outputs": [
    {
     "name": "stdout",
     "output_type": "stream",
     "text": [
      "Train = 33, Test =15\n"
     ]
    }
   ],
   "source": [
    "print(\"Train = {}, Test ={}\".format(len(train),len(test)))"
   ]
  },
  {
   "cell_type": "code",
   "execution_count": 26,
   "id": "204ea3ec",
   "metadata": {},
   "outputs": [
    {
     "name": "stdout",
     "output_type": "stream",
     "text": [
      "start=33, end=47\n"
     ]
    }
   ],
   "source": [
    "start=len(train)\n",
    "end=len(train) + len(test)-1\n",
    "print('start={}, end={}'.format(start,end))"
   ]
  },
  {
   "cell_type": "code",
   "execution_count": 27,
   "id": "426af9cd",
   "metadata": {},
   "outputs": [
    {
     "data": {
      "text/plain": [
       "Order Date\n",
       "2016-10-31    408.672959\n",
       "2016-11-30    459.723972\n",
       "2016-12-31    275.174208\n",
       "2017-01-31    312.953399\n",
       "2017-02-28     69.450035\n",
       "Freq: M, Name: predicted_mean, dtype: float64"
      ]
     },
     "execution_count": 27,
     "metadata": {},
     "output_type": "execute_result"
    }
   ],
   "source": [
    "prediction2= sm3.predict(start,end,typ='levels')\n",
    "prediction2.head()"
   ]
  },
  {
   "cell_type": "markdown",
   "id": "e26447c5",
   "metadata": {},
   "source": [
    "3)Forecast using model"
   ]
  },
  {
   "cell_type": "code",
   "execution_count": 35,
   "id": "834a7702",
   "metadata": {},
   "outputs": [
    {
     "data": {
      "text/plain": [
       "2018-01-31    312.692027\n",
       "2018-02-28     -2.077604\n",
       "2018-03-31     63.798477\n",
       "2018-04-30     99.875451\n",
       "2018-05-31    266.634866\n",
       "2018-06-30    212.857359\n",
       "2018-07-31    286.113944\n",
       "2018-08-31    511.737023\n",
       "2018-09-30    496.189485\n",
       "2018-10-31    453.647550\n",
       "2018-11-30    701.684865\n",
       "2018-12-31    610.460052\n",
       "2019-01-31    268.400445\n",
       "Freq: M, Name: predicted_mean, dtype: float64"
      ]
     },
     "execution_count": 35,
     "metadata": {},
     "output_type": "execute_result"
    }
   ],
   "source": [
    "forecast = sm3.predict(start = len(data), end = len(data)+12, typ='levls')\n",
    "forecast"
   ]
  },
  {
   "cell_type": "code",
   "execution_count": 37,
   "id": "95402877",
   "metadata": {},
   "outputs": [
    {
     "data": {
      "image/png": "[encoded data removed]",
      "text/plain": [
       "<Figure size 640x480 with 1 Axes>"
      ]
     },
     "metadata": {},
     "output_type": "display_data"
    }
   ],
   "source": [
    "data.plot()\n",
    "forecast.plot()\n",
    "plt.title(\"SARIMA model forecast\");"
   ]
  },
  {
   "cell_type": "markdown",
   "id": "1d97c9b2",
   "metadata": {},
   "source": [
    "4.Write your observation about the two models you have bulit during this challange."
   ]
  },
  {
   "cell_type": "raw",
   "id": "e89582c7",
   "metadata": {},
   "source": [
    "Sarima model has best forecasted value and ARIMA model has same forecast value \n",
    "so sarima model is best for this data."
   ]
  }
 ],
 "metadata": {
  "kernelspec": {
   "display_name": "Python 3 (ipykernel)",
   "language": "python",
   "name": "python3"
  },
  "language_info": {
   "codemirror_mode": {
    "name": "ipython",
    "version": 3
   },
   "file_extension": ".py",
   "mimetype": "text/x-python",
   "name": "python",
   "nbconvert_exporter": "python",
   "pygments_lexer": "ipython3",
   "version": "3.10.9"
  }
 },
 "nbformat": 4,
 "nbformat_minor": 5
}
