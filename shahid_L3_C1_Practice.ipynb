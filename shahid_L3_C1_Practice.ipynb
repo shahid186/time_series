{
 "cells": [
  {
   "cell_type": "markdown",
   "id": "fd921cfb",
   "metadata": {},
   "source": [
    "# Task 1:"
   ]
  },
  {
   "cell_type": "markdown",
   "id": "5eccc040",
   "metadata": {},
   "source": [
    "# Set Null and Alternate Hypothesis"
   ]
  },
  {
   "cell_type": "markdown",
   "id": "58fb6e35",
   "metadata": {},
   "source": [
    "H0: Responce frequency observed in the survey mathces the expected frequency.\n"
   ]
  },
  {
   "cell_type": "markdown",
   "id": "6ccf3df9",
   "metadata": {},
   "source": [
    "Ha: Responce frequency observed in the survey does not mathces the expected frequency."
   ]
  },
  {
   "cell_type": "code",
   "execution_count": 1,
   "id": "b9fb8161",
   "metadata": {},
   "outputs": [
    {
     "data": {
      "text/plain": [
       "4"
      ]
     },
     "execution_count": 1,
     "metadata": {},
     "output_type": "execute_result"
    }
   ],
   "source": [
    "Responce_Frequency= [24,108,61,14]\n",
    "n=len(Responce_Frequency)\n",
    "n"
   ]
  },
  {
   "cell_type": "markdown",
   "id": "61f242e5",
   "metadata": {},
   "source": [
    "# Set the alpha value"
   ]
  },
  {
   "cell_type": "code",
   "execution_count": 2,
   "id": "567238cc",
   "metadata": {},
   "outputs": [],
   "source": [
    "alpha= 0.05"
   ]
  },
  {
   "cell_type": "markdown",
   "id": "dd51411b",
   "metadata": {},
   "source": [
    "# Establish the decision rule"
   ]
  },
  {
   "cell_type": "markdown",
   "id": "a0e3ee47",
   "metadata": {},
   "source": [
    "i) if p-value < alpha: Reject the null hypothesis(H0) \n"
   ]
  },
  {
   "cell_type": "markdown",
   "id": "c62c502a",
   "metadata": {},
   "source": [
    "ii) if ꭕ2-statistic > ꭕ2-critical is: Reject the null hypothesis(H0)"
   ]
  },
  {
   "cell_type": "markdown",
   "id": "9519becd",
   "metadata": {},
   "source": [
    "# Degree Of Freedom"
   ]
  },
  {
   "cell_type": "code",
   "execution_count": 13,
   "id": "19218536",
   "metadata": {},
   "outputs": [
    {
     "data": {
      "text/plain": [
       "3"
      ]
     },
     "execution_count": 13,
     "metadata": {},
     "output_type": "execute_result"
    }
   ],
   "source": [
    "df= n-1\n",
    "df"
   ]
  },
  {
   "cell_type": "markdown",
   "id": "351f20a8",
   "metadata": {},
   "source": [
    "# Calculate Expected Frequency"
   ]
  },
  {
   "cell_type": "code",
   "execution_count": 3,
   "id": "63ee7097",
   "metadata": {},
   "outputs": [
    {
     "name": "stdout",
     "output_type": "stream",
     "text": [
      "expected_frequency:  51.75\n"
     ]
    }
   ],
   "source": [
    "expected_frequency= sum (Responce_Frequency)/n\n",
    "print ('expected_frequency: ',expected_frequency)"
   ]
  },
  {
   "cell_type": "markdown",
   "id": "f255b7ba",
   "metadata": {},
   "source": [
    "# Calculate ꭕ2-statistic"
   ]
  },
  {
   "cell_type": "code",
   "execution_count": 14,
   "id": "0ec48192",
   "metadata": {},
   "outputs": [
    {
     "name": "stdout",
     "output_type": "stream",
     "text": [
      "ꭕ2-statistic =  105.21256038647343\n"
     ]
    }
   ],
   "source": [
    "chis=0\n",
    "for x in Responce_Frequency:\n",
    "    chis = chis + (x - expected_frequency)**2/expected_frequency\n",
    "print ('ꭕ2-statistic = ', chis)"
   ]
  },
  {
   "cell_type": "markdown",
   "id": "1f357a9c",
   "metadata": {},
   "source": [
    "# Calculate ꭕ2-critical"
   ]
  },
  {
   "cell_type": "code",
   "execution_count": 15,
   "id": "1af6928d",
   "metadata": {},
   "outputs": [
    {
     "name": "stdout",
     "output_type": "stream",
     "text": [
      "ꭕ2-critical=  7.814727903251179\n"
     ]
    }
   ],
   "source": [
    "from scipy.stats import chi2\n",
    "chi_critical = chi2.ppf (1- alpha, df=3)\n",
    "print('ꭕ2-critical= ', chi_critical)"
   ]
  },
  {
   "cell_type": "code",
   "execution_count": 16,
   "id": "4af0f4f3",
   "metadata": {},
   "outputs": [
    {
     "name": "stdout",
     "output_type": "stream",
     "text": [
      "The p_value is : 0.0\n"
     ]
    }
   ],
   "source": [
    "from scipy.stats import norm\n",
    "p_value= norm.sf(abs(chis),3)\n",
    "print ('The p_value is :',p_value)"
   ]
  },
  {
   "cell_type": "markdown",
   "id": "63e715a4",
   "metadata": {},
   "source": [
    "# Plot chi-square distribution"
   ]
  },
  {
   "cell_type": "code",
   "execution_count": 18,
   "id": "598ab692",
   "metadata": {},
   "outputs": [
    {
     "data": {
      "text/plain": [
       "[<matplotlib.lines.Line2D at 0x2cf120e5c60>]"
      ]
     },
     "execution_count": 18,
     "metadata": {},
     "output_type": "execute_result"
    },
    {
     "data": {
      "image/png": "[encoded data removed]",
      "text/plain": [
       "<Figure size 640x480 with 1 Axes>"
      ]
     },
     "metadata": {},
     "output_type": "display_data"
    }
   ],
   "source": [
    "import pandas as pd\n",
    "import numpy as np\n",
    "import matplotlib.pyplot as plt\n",
    "import matplotlib\n",
    "import seaborn as sb\n",
    "\n",
    "x = np.arange(0,40,0.01)\n",
    "\n",
    "plt.plot(x,chi2.pdf(x,df=3))"
   ]
  },
  {
   "cell_type": "markdown",
   "id": "2dc4dfa4",
   "metadata": {},
   "source": [
    "# Statistical conclusion:"
   ]
  },
  {
   "cell_type": "markdown",
   "id": "1d9174d9",
   "metadata": {},
   "source": [
    "Here we can see the p_value = 0.0 is smaller than the alpha = 0.01 \n",
    "also ꭕ2-statistic = 105.21 is greter than the ꭕ2-critical= 7.81 Which leads to the rejection of null hypothesis hence Responce frequency observed in the survey does not mathces the expected frequency."
   ]
  },
  {
   "cell_type": "code",
   "execution_count": null,
   "id": "7307a6a6",
   "metadata": {},
   "outputs": [],
   "source": []
  },
  {
   "cell_type": "markdown",
   "id": "e483e150",
   "metadata": {},
   "source": [
    "# Task 2:"
   ]
  },
  {
   "cell_type": "markdown",
   "id": "cecc22cb",
   "metadata": {},
   "source": [
    "# Set Null and Alternate Hypothesis"
   ]
  },
  {
   "cell_type": "markdown",
   "id": "be66b83a",
   "metadata": {},
   "source": [
    "H0: The number of bedrooms in a new home is independent of the number of stories."
   ]
  },
  {
   "cell_type": "markdown",
   "id": "1c74b9ac",
   "metadata": {},
   "source": [
    "Ha: The number of bedrooms in a new home is dependent of the number of stories."
   ]
  },
  {
   "cell_type": "markdown",
   "id": "38f1e6ed",
   "metadata": {},
   "source": [
    "# Determine the appropriate statistical test"
   ]
  },
  {
   "cell_type": "markdown",
   "id": "72639c1d",
   "metadata": {},
   "source": [
    "ꭕ2 = ∑ ∑(fo – fc)**2/fc\n",
    "\n",
    "df = (r – 1)*(c - 1)\n",
    "\n",
    "Where r = the number of rows and c = number of columns"
   ]
  },
  {
   "cell_type": "markdown",
   "id": "240718d8",
   "metadata": {},
   "source": [
    "# Data"
   ]
  },
  {
   "cell_type": "code",
   "execution_count": 24,
   "id": "b61d5b93",
   "metadata": {},
   "outputs": [
    {
     "name": "stdout",
     "output_type": "stream",
     "text": [
      "no_of_bedroom :  [[116, 90], [101, 325], [57, 160]]\n",
      "n : 3\n"
     ]
    }
   ],
   "source": [
    "no_of_bedrooms=[[116,90],[101,325],[57,160]]\n",
    "print ('no_of_bedroom : ', no_of_bedrooms)\n",
    "n=len(no_of_bedrooms)\n",
    "print ('n :',n)"
   ]
  },
  {
   "cell_type": "markdown",
   "id": "148323ec",
   "metadata": {},
   "source": [
    "# Set the alpha value"
   ]
  },
  {
   "cell_type": "code",
   "execution_count": 21,
   "id": "72f93fda",
   "metadata": {},
   "outputs": [],
   "source": [
    "alpha=0.1"
   ]
  },
  {
   "cell_type": "markdown",
   "id": "fff9807a",
   "metadata": {},
   "source": [
    "# Establish the decision rule"
   ]
  },
  {
   "cell_type": "markdown",
   "id": "f9a959f5",
   "metadata": {},
   "source": [
    "i. If ꭕ2-statistics > ꭕ2-critical : Rejection of Null Hypothesis(H0)"
   ]
  },
  {
   "cell_type": "markdown",
   "id": "6e4ccec6",
   "metadata": {},
   "source": [
    "# Set degrees of freedom"
   ]
  },
  {
   "cell_type": "code",
   "execution_count": 30,
   "id": "f00d9f4f",
   "metadata": {},
   "outputs": [
    {
     "data": {
      "text/plain": [
       "4"
      ]
     },
     "execution_count": 30,
     "metadata": {},
     "output_type": "execute_result"
    }
   ],
   "source": [
    "dof = (n-1) * (n-1)\n",
    "dof"
   ]
  },
  {
   "cell_type": "markdown",
   "id": "01547525",
   "metadata": {},
   "source": [
    "# Analyze the data"
   ]
  },
  {
   "cell_type": "code",
   "execution_count": 31,
   "id": "6d7426b6",
   "metadata": {},
   "outputs": [
    {
     "name": "stdout",
     "output_type": "stream",
     "text": [
      "[[116, 90], [101, 325], [57, 160]]\n",
      "stat:  72.33176626617666\n",
      "p-Value:  1.9649727053475884e-16\n",
      "dof: 2\n",
      "expected frequency:  [[ 66.48292108 139.51707892]\n",
      " [137.48409894 288.51590106]\n",
      " [ 70.03297998 146.96702002]]\n"
     ]
    }
   ],
   "source": [
    "from scipy.stats import chi2_contingency\n",
    "from scipy.stats import chi2\n",
    "\n",
    "# Contigency Table\n",
    "\n",
    "no_of_bedrooms=[[116,90],[101,325],[57,160]]\n",
    "print (no_of_bedrooms)\n",
    "\n",
    "stat, p, dof, expected = chi2_contingency(no_of_bedrooms)\n",
    "\n",
    "print (\"stat: \",stat)\n",
    "print (\"p-Value: \",p)  # we are getting the power as -16 i.e equal to zero hence we are getting P-value as zero even if its 8.35.\n",
    "print (\"dof: %d\" % dof)  \n",
    "print (\"expected frequency: \",expected)"
   ]
  },
  {
   "cell_type": "markdown",
   "id": "aad22ec4",
   "metadata": {},
   "source": [
    "# Calculate ꭕ2-critical value:"
   ]
  },
  {
   "cell_type": "code",
   "execution_count": 32,
   "id": "b36bd4d1",
   "metadata": {},
   "outputs": [
    {
     "name": "stdout",
     "output_type": "stream",
     "text": [
      "Probability = 0.100, critical = 4.605, stats = 72.332\n",
      "The type of beverege and age are Dependent (Reject H0)\n",
      "Significance = 0.100, p = 0.000\n",
      "The type of beverege and age are Dependent (Reject H0)\n"
     ]
    }
   ],
   "source": [
    "critical= chi2.ppf(1-alpha, dof)\n",
    "print (\"Probability = %.3f, critical = %.3f, stats = %.3f\" % (alpha, critical, stat))\n",
    "\n",
    "if abs(stat) >= critical:\n",
    "    print(\"The type of beverege and age are Dependent (Reject H0)\")\n",
    "else:\n",
    "    print(\"The type of beverege and age are independent (Accept H0)\")\n",
    "    \n",
    "# interpret p-value\n",
    "print (\"Significance = %.3f, p = %.3f\" %(alpha, p))\n",
    "\n",
    "\n",
    "if  p <= alpha:\n",
    "    print(\"The type of beverege and age are Dependent (Reject H0)\")\n",
    "else:\n",
    "    print(\"The type of beverege and age are independent (Accept H0)\")"
   ]
  },
  {
   "cell_type": "markdown",
   "id": "6a2c62b6",
   "metadata": {},
   "source": [
    "# Plot the chi-square distribution"
   ]
  },
  {
   "cell_type": "code",
   "execution_count": 33,
   "id": "6d0a2564",
   "metadata": {},
   "outputs": [
    {
     "data": {
      "text/plain": [
       "[<matplotlib.lines.Line2D at 0x2cf12208fa0>]"
      ]
     },
     "execution_count": 33,
     "metadata": {},
     "output_type": "execute_result"
    },
    {
     "data": {
      "image/png": "[encoded data removed]",
      "text/plain": [
       "<Figure size 640x480 with 1 Axes>"
      ]
     },
     "metadata": {},
     "output_type": "display_data"
    }
   ],
   "source": [
    "import numpy as np\n",
    "import matplotlib.pyplot as plt\n",
    "\n",
    "x = np.arange(0,20,0.1)\n",
    "\n",
    "plt.plot(x, chi2.pdf(x, df=4))"
   ]
  },
  {
   "cell_type": "markdown",
   "id": "42e53827",
   "metadata": {},
   "source": [
    "# Reach a statistical conclusion"
   ]
  },
  {
   "cell_type": "markdown",
   "id": "86a362b3",
   "metadata": {},
   "source": [
    "p=value = 0.00 < alpha=0.1, which leads to rejection of the Null Hypothesis (H0).\n",
    "\n",
    "ꭕ2-statistic= 72.3 > ꭕ2-critical = 4.60, which lads to rejection of the Null Hypothesis(H0)."
   ]
  },
  {
   "cell_type": "markdown",
   "id": "18d94d02",
   "metadata": {},
   "source": [
    "# Make the business decision"
   ]
  },
  {
   "cell_type": "markdown",
   "id": "6ccf442c",
   "metadata": {},
   "source": [
    "The ꭕ2-statistic value of 72.3 is greater than the ꭕ2-critical value of 4.60, so the decision is to reject the null hypothesis.\n",
    "\n",
    "The number of bedrooms in a new home is dependent of the number of stories."
   ]
  }
 ],
 "metadata": {
  "kernelspec": {
   "display_name": "Python 3 (ipykernel)",
   "language": "python",
   "name": "python3"
  },
  "language_info": {
   "codemirror_mode": {
    "name": "ipython",
    "version": 3
   },
   "file_extension": ".py",
   "mimetype": "text/x-python",
   "name": "python",
   "nbconvert_exporter": "python",
   "pygments_lexer": "ipython3",
   "version": "3.10.9"
  }
 },
 "nbformat": 4,
 "nbformat_minor": 5
}
